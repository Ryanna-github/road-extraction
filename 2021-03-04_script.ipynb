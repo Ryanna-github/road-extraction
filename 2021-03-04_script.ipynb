{
 "cells": [
  {
   "cell_type": "code",
   "execution_count": 1,
   "metadata": {},
   "outputs": [],
   "source": [
    "import torch\n",
    "import torch.nn as nn\n",
    "from torchsummary import summary\n",
    "\n",
    "import data_loader\n",
    "import solver"
   ]
  },
  {
   "cell_type": "code",
   "execution_count": 2,
   "metadata": {},
   "outputs": [],
   "source": [
    "root_path = '/home/renyan/ossdata/massachusetts-roads-dataset/'\n",
    "road_path = root_path + \"tiff_select2_parts_16/\"\n",
    "INPUT_SIZE, OUTPUT_SIZE = 256, 256\n",
    "BATCH_SIZE = 4\n",
    "LR = 0.001\n",
    "EPOCH_NUM = 20"
   ]
  },
  {
   "cell_type": "code",
   "execution_count": 3,
   "metadata": {},
   "outputs": [],
   "source": [
    "class Unet(nn.Module):\n",
    "    def __init__(self):\n",
    "        super(Unet, self).__init__()\n",
    "        \n",
    "        self.down1 = self.conv_stage(3, 8)\n",
    "        self.down2 = self.conv_stage(8, 16)\n",
    "        self.down3 = self.conv_stage(16, 32)\n",
    "        self.down4 = self.conv_stage(32, 64)\n",
    "        self.down5 = self.conv_stage(64, 128)\n",
    "        self.down6 = self.conv_stage(128, 256)\n",
    "        self.down7 = self.conv_stage(256, 512)\n",
    "        \n",
    "        self.center = self.conv_stage(512, 1024)\n",
    "        #self.center_res = self.resblock(1024)\n",
    "        \n",
    "        self.up7 = self.conv_stage(1024, 512)\n",
    "        self.up6 = self.conv_stage(512, 256)\n",
    "        self.up5 = self.conv_stage(256, 128)\n",
    "        self.up4 = self.conv_stage(128, 64)\n",
    "        self.up3 = self.conv_stage(64, 32)\n",
    "        self.up2 = self.conv_stage(32, 16)\n",
    "        self.up1 = self.conv_stage(16, 8)\n",
    "        \n",
    "        self.trans7 = self.upsample(1024, 512)\n",
    "        self.trans6 = self.upsample(512, 256)\n",
    "        self.trans5 = self.upsample(256, 128)\n",
    "        self.trans4 = self.upsample(128, 64)\n",
    "        self.trans3 = self.upsample(64, 32)\n",
    "        self.trans2 = self.upsample(32, 16)\n",
    "        self.trans1 = self.upsample(16, 8)\n",
    "        \n",
    "        self.conv_last = nn.Sequential(\n",
    "            nn.Conv2d(8, 1, 3, 1, 1),\n",
    "            nn.Sigmoid()\n",
    "        )\n",
    "        \n",
    "        self.max_pool = nn.MaxPool2d(2)\n",
    "        \n",
    "        for m in self.modules():\n",
    "            if isinstance(m, nn.Conv2d) or isinstance(m, nn.ConvTranspose2d):\n",
    "                if m.bias is not None:\n",
    "                    m.bias.data.zero_()\n",
    "\n",
    "    def conv_stage(self, dim_in, dim_out, kernel_size=3, stride=1, padding=1, bias=True, useBN=False):\n",
    "        if useBN:\n",
    "            return nn.Sequential(\n",
    "              nn.Conv2d(dim_in, dim_out, kernel_size=kernel_size, stride=stride, padding=padding, bias=bias),\n",
    "              nn.BatchNorm2d(dim_out),\n",
    "              #nn.LeakyReLU(0.1),\n",
    "              nn.ReLU(),\n",
    "              nn.Conv2d(dim_out, dim_out, kernel_size=kernel_size, stride=stride, padding=padding, bias=bias),\n",
    "              nn.BatchNorm2d(dim_out),\n",
    "              #nn.LeakyReLU(0.1),\n",
    "              nn.ReLU(),\n",
    "            )\n",
    "        else:\n",
    "            return nn.Sequential(\n",
    "              nn.Conv2d(dim_in, dim_out, kernel_size=kernel_size, stride=stride, padding=padding, bias=bias),\n",
    "              nn.ReLU(),\n",
    "              nn.Conv2d(dim_out, dim_out, kernel_size=kernel_size, stride=stride, padding=padding, bias=bias),\n",
    "              nn.ReLU()\n",
    "            )\n",
    "\n",
    "    def upsample(self, ch_coarse, ch_fine):\n",
    "        return nn.Sequential(\n",
    "            nn.ConvTranspose2d(ch_coarse, ch_fine, 4, 2, 1, bias=False),\n",
    "            nn.ReLU()\n",
    "        )\n",
    "    \n",
    "    def forward(self, x):\n",
    "        conv1_out = self.down1(x)\n",
    "        conv2_out = self.down2(self.max_pool(conv1_out))\n",
    "        conv3_out = self.down3(self.max_pool(conv2_out))\n",
    "        conv4_out = self.down4(self.max_pool(conv3_out))\n",
    "        conv5_out = self.down5(self.max_pool(conv4_out))\n",
    "        conv6_out = self.down6(self.max_pool(conv5_out))\n",
    "        conv7_out = self.down7(self.max_pool(conv6_out))\n",
    "        \n",
    "        out = self.center(self.max_pool(conv7_out))\n",
    "        #out = self.center_res(out)\n",
    "\n",
    "        out = self.up7(torch.cat((self.trans7(out), conv7_out), 1))\n",
    "        out = self.up6(torch.cat((self.trans6(out), conv6_out), 1))\n",
    "        out = self.up5(torch.cat((self.trans5(out), conv5_out), 1))\n",
    "        out = self.up4(torch.cat((self.trans4(out), conv4_out), 1))\n",
    "        out = self.up3(torch.cat((self.trans3(out), conv3_out), 1))\n",
    "        out = self.up2(torch.cat((self.trans2(out), conv2_out), 1))\n",
    "        out = self.up1(torch.cat((self.trans1(out), conv1_out), 1))\n",
    "\n",
    "        out = self.conv_last(out)\n",
    "\n",
    "        return out"
   ]
  },
  {
   "cell_type": "code",
   "execution_count": 4,
   "metadata": {},
   "outputs": [
    {
     "name": "stdout",
     "output_type": "stream",
     "text": [
      "train dataset set: 7056 pairs\n",
      "val dataset set: 224 pairs\n"
     ]
    }
   ],
   "source": [
    "train_dataset = data_loader.RoadDataset(road_path, INPUT_SIZE, OUTPUT_SIZE, 'train')\n",
    "val_dataset = data_loader.RoadDataset(road_path, INPUT_SIZE, OUTPUT_SIZE, 'val')"
   ]
  },
  {
   "cell_type": "code",
   "execution_count": 5,
   "metadata": {},
   "outputs": [],
   "source": [
    "device = torch.device(\"cuda\" if torch.cuda.is_available() else \"cpu\")\n",
    "net = Unet().to(device)\n",
    "criterion = nn.BCEWithLogitsLoss()\n",
    "optimizer = torch.optim.Adam(params = net.parameters(), lr = LR)\n",
    "scheduler = torch.optim.lr_scheduler.StepLR(optimizer, step_size = 100, gamma = 0.5)"
   ]
  },
  {
   "cell_type": "code",
   "execution_count": 6,
   "metadata": {},
   "outputs": [
    {
     "name": "stdout",
     "output_type": "stream",
     "text": [
      "Net Unet initialized.\n"
     ]
    }
   ],
   "source": [
    "sv = solver.Solver(device, net, train_dataset, val_dataset, criterion, LR, BATCH_SIZE, optimizer, scheduler, \"Unet\")"
   ]
  },
  {
   "cell_type": "code",
   "execution_count": null,
   "metadata": {},
   "outputs": [
    {
     "name": "stderr",
     "output_type": "stream",
     "text": [
      "Epoch 1/20:  40%|███▉      | 2820/7056 [08:59<10:13,  6.90img/s, loss (batch)=0.693]  "
     ]
    }
   ],
   "source": [
    "sv.train(epochs = EPOCH_NUM, save_cp = True, dir_checkpoint = 'checkpoints/', prefix = 'new_unet')"
   ]
  },
  {
   "cell_type": "code",
   "execution_count": null,
   "metadata": {},
   "outputs": [],
   "source": []
  }
 ],
 "metadata": {
  "kernelspec": {
   "display_name": "Python 3",
   "language": "python",
   "name": "python3"
  },
  "language_info": {
   "codemirror_mode": {
    "name": "ipython",
    "version": 3
   },
   "file_extension": ".py",
   "mimetype": "text/x-python",
   "name": "python",
   "nbconvert_exporter": "python",
   "pygments_lexer": "ipython3",
   "version": "3.6.9"
  }
 },
 "nbformat": 4,
 "nbformat_minor": 2
}
