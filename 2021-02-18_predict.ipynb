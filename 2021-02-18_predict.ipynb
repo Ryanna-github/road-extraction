{
 "cells": [
  {
   "cell_type": "markdown",
   "metadata": {},
   "source": [
    "# Prediction of Test Dataset"
   ]
  },
  {
   "cell_type": "code",
   "execution_count": 1,
   "metadata": {},
   "outputs": [],
   "source": [
    "import torch\n",
    "import matplotlib.pyplot as plt\n",
    "import numpy as np\n",
    "import pickle\n",
    "from torchsummary import summary\n",
    "\n",
    "from models import DLinkNet34, LinkNet34, FarSegNet\n",
    "import data_loader\n",
    "import loss\n",
    "import tester"
   ]
  },
  {
   "cell_type": "code",
   "execution_count": 3,
   "metadata": {},
   "outputs": [],
   "source": [
    "# root_path = 'D://Data/massachusetts-roads-dataset/'\n",
    "root_path = '/home/renyan/ossdata/massachusetts-roads-dataset/'\n",
    "road_path = root_path + \"tiff_select3_parts_16/\"\n",
    "DIR_CHECKPOINT = 'checkpoints/'\n",
    "TEST_SAVE_PATH = '/home/renyan/road-extraction/predict_result/'"
   ]
  },
  {
   "cell_type": "code",
   "execution_count": 17,
   "metadata": {},
   "outputs": [
    {
     "name": "stdout",
     "output_type": "stream",
     "text": [
      "test dataset set: 784 pairs with sample ratio None\n"
     ]
    }
   ],
   "source": [
    "INPUT_SIZE, OUTPUT_SIZE = 256, 256\n",
    "# test_dataset = data_loader.RoadDataset(road_path, INPUT_SIZE, OUTPUT_SIZE, data_class = 'train',sample_ratio = 0.1)\n",
    "test_dataset = data_loader.RoadDataset(road_path, INPUT_SIZE, OUTPUT_SIZE, data_class = 'test')"
   ]
  },
  {
   "cell_type": "code",
   "execution_count": 5,
   "metadata": {},
   "outputs": [],
   "source": [
    "def tt_info(tt):\n",
    "    nan0 = list(set(np.where(np.isnan(tt.dice_score))[0].tolist()).union(set(np.where(tt.dice_score == np.float32(0))[0].tolist())))\n",
    "    print(\"{} pairs both whole black, {} pairs with one whole black\".format(len(np.where(np.isnan(tt.dice_score))[0].tolist()),\n",
    "                                                                           len(np.where(np.isnan(tt.dice_score))[0].tolist())))\n",
    "    dice_score = [t for i, t in enumerate(tt.dice_score) if i not in nan0]\n",
    "    iou_score = [t for i, t in enumerate(tt.iou_score) if i not in nan0]\n",
    "    print(\"Finally: mean dice {}, mean iou {}\".format(np.mean(dice_score), np.mean(iou_score)))"
   ]
  },
  {
   "cell_type": "markdown",
   "metadata": {},
   "source": [
    "## LinkNet"
   ]
  },
  {
   "cell_type": "code",
   "execution_count": 6,
   "metadata": {},
   "outputs": [],
   "source": [
    "# with open('pickle_objects/tt_linknet.pickle', 'rb') as f:  \n",
    "#     tt_linknet = pickle.load(f)"
   ]
  },
  {
   "cell_type": "code",
   "execution_count": 13,
   "metadata": {},
   "outputs": [
    {
     "name": "stdout",
     "output_type": "stream",
     "text": [
      "Tester with net para in v2_linknet34_re_epoch20.pth is ready \n",
      "(threshold = 0.501, 7056 pairs in test dataset)\n"
     ]
    }
   ],
   "source": [
    "net = LinkNet34.LinkNet34()\n",
    "device = torch.device('cuda' if torch.cuda.is_available() else 'cpu')\n",
    "tt_linknet = tester.Tester(net = net, \n",
    "                   device = device, \n",
    "                   dir_stat = 'v2_linknet34_re_epoch20.pth', \n",
    "                   test_dataset = test_dataset,\n",
    "                   threshold = 0.501,\n",
    "                   save_path = TEST_SAVE_PATH, \n",
    "                   dir_checkpoint = DIR_CHECKPOINT)"
   ]
  },
  {
   "cell_type": "code",
   "execution_count": 14,
   "metadata": {},
   "outputs": [
    {
     "name": "stderr",
     "output_type": "stream",
     "text": [
      "100%|██████████| 7056/7056 [21:36<00:00,  5.44it/s]"
     ]
    },
    {
     "name": "stdout",
     "output_type": "stream",
     "text": [
      "current threshold: 0.501\n",
      "mean dice: 0.7945294249965986\n",
      "mean iou: 0.694017821418542\n"
     ]
    },
    {
     "name": "stderr",
     "output_type": "stream",
     "text": [
      "\n"
     ]
    }
   ],
   "source": [
    "tt_linknet.test_score()"
   ]
  },
  {
   "cell_type": "code",
   "execution_count": 27,
   "metadata": {},
   "outputs": [
    {
     "name": "stdout",
     "output_type": "stream",
     "text": [
      "0 pairs both whole black, 0 pairs with one whole black\n",
      "Finally: mean dice 0.7945294249965986, mean iou 0.694017821418542\n"
     ]
    }
   ],
   "source": [
    "tt_info(tt_linknet)"
   ]
  },
  {
   "cell_type": "code",
   "execution_count": 27,
   "metadata": {},
   "outputs": [],
   "source": [
    "# tt = tt_linknet\n",
    "# print(np.where(tt.dice_score <= np.quantile(tt.dice_score, 0.05)), '\\n',\n",
    "#      np.where(tt.iou_score <= np.quantile(tt.iou_score, 0.05)))\n",
    "# print(np.where(tt.dice_score >= np.quantile(tt.dice_score, 0.95)), '\\n',\n",
    "#      np.where(tt.iou_score >= np.quantile(tt.iou_score, 0.95)))"
   ]
  },
  {
   "cell_type": "code",
   "execution_count": 28,
   "metadata": {},
   "outputs": [],
   "source": [
    "# tt_linknet.test_idx(706)"
   ]
  },
  {
   "cell_type": "code",
   "execution_count": 33,
   "metadata": {},
   "outputs": [
    {
     "name": "stderr",
     "output_type": "stream",
     "text": [
      "100%|██████████| 784/784 [00:01<00:00, 538.13it/s]\n"
     ]
    }
   ],
   "source": [
    "# tt_linknet.save(subfolder = \"test_result/linknet34_re_epoch20/\")"
   ]
  },
  {
   "cell_type": "code",
   "execution_count": 15,
   "metadata": {},
   "outputs": [],
   "source": [
    "tt_linknet.test_dataset = None\n",
    "tt_linknet.test_loader = None\n",
    "with open('pickle_objects/tt_linknet_train.pickle','wb') as p:\n",
    "    pickle.dump(tt_linknet, p)"
   ]
  },
  {
   "cell_type": "markdown",
   "metadata": {},
   "source": [
    "## D-LinkNet"
   ]
  },
  {
   "cell_type": "code",
   "execution_count": 16,
   "metadata": {},
   "outputs": [],
   "source": [
    "# with open('pickle_objects/tt_dlinknet.pickle', 'rb') as f:  \n",
    "#     tt_dlinknet = pickle.load(f)"
   ]
  },
  {
   "cell_type": "code",
   "execution_count": 17,
   "metadata": {},
   "outputs": [
    {
     "name": "stdout",
     "output_type": "stream",
     "text": [
      "Tester with net para in v2_dlinknet34_re_epoch20.pth is ready \n",
      "(threshold = 0.503, 7056 pairs in test dataset)\n"
     ]
    }
   ],
   "source": [
    "net = DLinkNet34.DLinkNet34()\n",
    "device = torch.device('cuda' if torch.cuda.is_available() else 'cpu')\n",
    "tt_dlinknet = tester.Tester(net = net, \n",
    "                   device = device, \n",
    "                   dir_stat = 'v2_dlinknet34_re_epoch20.pth', \n",
    "                   test_dataset = test_dataset,\n",
    "                   threshold = 0.503,\n",
    "                   save_path = TEST_SAVE_PATH, \n",
    "                   dir_checkpoint = DIR_CHECKPOINT)"
   ]
  },
  {
   "cell_type": "code",
   "execution_count": null,
   "metadata": {},
   "outputs": [
    {
     "name": "stderr",
     "output_type": "stream",
     "text": [
      " 10%|▉         | 681/7056 [01:45<15:41,  6.77it/s]  "
     ]
    }
   ],
   "source": [
    "tt_dlinknet.test_score()"
   ]
  },
  {
   "cell_type": "code",
   "execution_count": 28,
   "metadata": {},
   "outputs": [
    {
     "name": "stdout",
     "output_type": "stream",
     "text": [
      "0 pairs both whole black, 0 pairs with one whole black\n",
      "Finally: mean dice 0.8173042396111623, mean iou 0.7269717835440095\n"
     ]
    }
   ],
   "source": [
    "tt_info(tt_dlinknet)"
   ]
  },
  {
   "cell_type": "code",
   "execution_count": null,
   "metadata": {},
   "outputs": [],
   "source": [
    "# tt_dlinknet.save(subfolder = \"test_result/dlinknet34_re_epoch20/\")"
   ]
  },
  {
   "cell_type": "code",
   "execution_count": null,
   "metadata": {},
   "outputs": [],
   "source": [
    "tt_dlinknet.test_dataset = None\n",
    "tt_dlinknet.test_loader = None\n",
    "with open('pickle_objects/tt_dlinknet_train.pickle','wb') as p:\n",
    "    pickle.dump(tt_dlinknet, p)"
   ]
  },
  {
   "cell_type": "markdown",
   "metadata": {},
   "source": [
    "## FarSeg Net"
   ]
  },
  {
   "cell_type": "code",
   "execution_count": null,
   "metadata": {},
   "outputs": [],
   "source": [
    "# with open('pickle_objects/tt_farseg.pickle', 'rb') as f:  \n",
    "#     tt_farseg = pickle.load(f)"
   ]
  },
  {
   "cell_type": "code",
   "execution_count": 12,
   "metadata": {},
   "outputs": [
    {
     "name": "stdout",
     "output_type": "stream",
     "text": [
      "Tester with net para in v2_farseg_epoch1.pth is ready \n",
      "(threshold = 0.5, 784 pairs in test dataset)\n"
     ]
    }
   ],
   "source": [
    "device = torch.device(\"cuda\" if torch.cuda.is_available() else \"cpu\")\n",
    "net = FarSegNet.FarSegNet().to(device)\n",
    "tt_farseg = tester.Tester(net = net, \n",
    "                   device = device, \n",
    "                   dir_stat = 'v2_farseg_epoch1.pth', \n",
    "                   test_dataset = test_dataset,\n",
    "                   threshold = 0.5,\n",
    "                   save_path = TEST_SAVE_PATH, \n",
    "                   dir_checkpoint = DIR_CHECKPOINT)"
   ]
  },
  {
   "cell_type": "code",
   "execution_count": 61,
   "metadata": {},
   "outputs": [],
   "source": [
    "# device = torch.device(\"cuda\" if torch.cuda.is_available() else \"cpu\")\n",
    "# net = FarSegNet.FarSegNet().to(device)\n",
    "# choices = [1, 10, 20, 30, 40, 50, 60, 70, 80, 90, 100]\n",
    "# iou = []\n",
    "# miou = []\n",
    "# dice = []\n",
    "# mdice = []\n",
    "# for choice in choices:\n",
    "#     print(\"==========================={}===============================\".format('v2_farseg_epoch{}.pth'.format(choice)))\n",
    "#     tt_farseg = tester.Tester(net = net, \n",
    "#                    device = device, \n",
    "#                    dir_stat = 'v2_farseg_epoch{}.pth'.format(choice), \n",
    "#                    test_dataset = test_dataset,\n",
    "#                    threshold = 0.5,\n",
    "#                    save_path = TEST_SAVE_PATH, \n",
    "#                    dir_checkpoint = DIR_CHECKPOINT)\n",
    "#     tt_farseg.test_score()\n",
    "#     iou.append(tt_farseg.iou_score)\n",
    "#     dice.append(tt_farseg.dice_score)\n",
    "#     miou.append(np.mean(tt_farseg.iou_score))\n",
    "#     mdice.append(np.mean(tt_farseg.dice_score))"
   ]
  },
  {
   "cell_type": "code",
   "execution_count": 18,
   "metadata": {},
   "outputs": [
    {
     "name": "stdout",
     "output_type": "stream",
     "text": [
      "[0.6729336445167297, 0.777787685151879, 0.7982560034844601, 0.8218564088545501, 0.8291713015629633, 0.8427011937619656, 0.851973872920102, 0.8622694465708225, 0.8672758288100256, 0.8730108699054583, 0.8758657856613187] \n",
      "\n",
      " [0.7826779535322345, 0.8585560946020212, 0.8720983121453302, 0.8887904473482995, 0.893429238642054, 0.9013797315129852, 0.9072806466385682, 0.914395882728252, 0.9169580575633556, 0.9207907549878385, 0.9222991469058585]\n"
     ]
    }
   ],
   "source": [
    "# train\n",
    "iou_test, miou_test, dice_test, mdice_test = iou, miou, dice, mdice\n",
    "print(miou_test,'\\n\\n', mdice_test)"
   ]
  },
  {
   "cell_type": "code",
   "execution_count": 31,
   "metadata": {},
   "outputs": [
    {
     "name": "stdout",
     "output_type": "stream",
     "text": [
      "[0.5431574471162856, 0.5690857675815005, 0.5640924537465859, 0.5656684629570918, 0.5621636257777279, 0.5572889346566753, 0.5621982093781165, 0.567335149794045, 0.5689174415820061, 0.5563551494270398, 0.5677939570489833] \n",
      "\n",
      " [0.625859295165807, 0.6500142926313013, 0.6490594088513609, 0.6524386154624324, 0.6506615665028833, 0.6496824057256178, 0.6509772765972326, 0.6552235690672562, 0.6549238965644174, 0.6482370506507522, 0.6546419067588063]\n"
     ]
    }
   ],
   "source": [
    "# test\n",
    "iou_test, miou_test, dice_test, mdice_test = iou, miou, dice, mdice\n",
    "print(miou_test,'\\n\\n', mdice_test)"
   ]
  },
  {
   "cell_type": "code",
   "execution_count": 60,
   "metadata": {},
   "outputs": [
    {
     "data": {
      "image/png": "[encoded data removed]",
      "text/plain": [
       "<Figure size 432x288 with 1 Axes>"
      ]
     },
     "metadata": {
      "needs_background": "light"
     },
     "output_type": "display_data"
    }
   ],
   "source": [
    "x = list(np.arange(0, 110, 10))\n",
    "\n",
    "fig, ax = plt.subplots()\n",
    "ax.spines['right'].set_visible(False)\n",
    "ax.spines['top'].set_visible(False)\n",
    "\n",
    "plt.plot(x, miou_train, '.-.')\n",
    "plt.plot(x, miou_test, '--')\n",
    "plt.xlabel(\"epoch\")\n",
    "plt.ylabel(\"mIou\")\n",
    "plt.ylim(0.4, 0.9)\n",
    "plt.legend(['Train', 'Test'], loc='lower right')\n",
    "\n",
    "for a, b in zip(x, miou_train):\n",
    "    plt.text(a, b, b.round(2), ha='center', va='bottom', fontsize=10)\n",
    "for a, b in zip(x, miou_test):\n",
    "    plt.text(a, b, b.round(2), ha='center', va='bottom', fontsize=10)\n",
    "\n",
    "# plt.title(\"mIou Score of different FarSeg epochs\")\n",
    "plt.savefig(\"predict_result/mid_report/epoch_line.png\")"
   ]
  },
  {
   "cell_type": "code",
   "execution_count": 13,
   "metadata": {},
   "outputs": [
    {
     "name": "stderr",
     "output_type": "stream",
     "text": [
      "100%|██████████| 784/784 [01:46<00:00,  7.34it/s]"
     ]
    },
    {
     "name": "stdout",
     "output_type": "stream",
     "text": [
      "current threshold: 0.5\n",
      "mean dice: 0.625859295165807\n",
      "mean iou: 0.5431574471162856\n"
     ]
    },
    {
     "name": "stderr",
     "output_type": "stream",
     "text": [
      "\n"
     ]
    }
   ],
   "source": [
    "tt_farseg.test_score()"
   ]
  },
  {
   "cell_type": "code",
   "execution_count": 7,
   "metadata": {},
   "outputs": [
    {
     "name": "stdout",
     "output_type": "stream",
     "text": [
      "0 pairs both whole black, 0 pairs with one whole black\n",
      "Finally: mean dice 0.8728935287666232, mean iou 0.7973545283597118\n"
     ]
    }
   ],
   "source": [
    "tt_info(tt_farseg)"
   ]
  },
  {
   "cell_type": "code",
   "execution_count": null,
   "metadata": {},
   "outputs": [],
   "source": [
    "# tt_farseg.save(subfolder = \"test_result/farseg_re_epoch33/\")"
   ]
  },
  {
   "cell_type": "code",
   "execution_count": null,
   "metadata": {},
   "outputs": [],
   "source": [
    "tt_farseg.test_dataset = None\n",
    "tt_farseg.test_loader = None\n",
    "with open('pickle_objects/tt_farseg_train.pickle','wb') as p:\n",
    "    pickle.dump(tt_farseg, p)"
   ]
  },
  {
   "cell_type": "markdown",
   "metadata": {},
   "source": [
    "## Save Results"
   ]
  },
  {
   "cell_type": "code",
   "execution_count": 20,
   "metadata": {},
   "outputs": [],
   "source": [
    "# for t in np.arange(0.497, 0.503, 0.001):\n",
    "#     tt.set_threshold(t)\n",
    "#     tt.test_score()\n",
    "#     tt.write_info(\"D-Linknet34\")"
   ]
  },
  {
   "cell_type": "code",
   "execution_count": 7,
   "metadata": {},
   "outputs": [
    {
     "data": {
      "text/plain": [
       "tensor(1., device='cuda:0')"
      ]
     },
     "execution_count": 7,
     "metadata": {},
     "output_type": "execute_result"
    }
   ],
   "source": [
    "tt.pred.max()"
   ]
  },
  {
   "cell_type": "code",
   "execution_count": null,
   "metadata": {},
   "outputs": [],
   "source": [
    "tt.set_threshold(0.9)\n",
    "tt.test_score()\n",
    "tt.write_info(\"D-Linknet34\")"
   ]
  },
  {
   "cell_type": "code",
   "execution_count": 23,
   "metadata": {},
   "outputs": [
    {
     "name": "stderr",
     "output_type": "stream",
     "text": [
      "  8%|▊         | 61/784 [00:00<00:01, 601.71it/s]"
     ]
    },
    {
     "name": "stdout",
     "output_type": "stream",
     "text": [
      "Build folder of /home/renyan/road-extraction/predict_result/test_result/dlinknet34_re_epoch20/\n"
     ]
    },
    {
     "name": "stderr",
     "output_type": "stream",
     "text": [
      "100%|██████████| 784/784 [00:01<00:00, 596.18it/s]\n"
     ]
    }
   ],
   "source": [
    "tt.save(subfolder = \"test_result/dlinknet34_re_epoch20/\")"
   ]
  },
  {
   "cell_type": "markdown",
   "metadata": {},
   "source": [
    "## Good & Bad Prediction Examples"
   ]
  },
  {
   "cell_type": "code",
   "execution_count": 8,
   "metadata": {},
   "outputs": [
    {
     "data": {
      "text/plain": [
       "784"
      ]
     },
     "execution_count": 8,
     "metadata": {},
     "output_type": "execute_result"
    }
   ],
   "source": [
    "len(tt.pred_list)"
   ]
  },
  {
   "cell_type": "code",
   "execution_count": 9,
   "metadata": {},
   "outputs": [
    {
     "name": "stdout",
     "output_type": "stream",
     "text": [
      "(array([  3,  36,  37,  44,  52,  64,  78,  79,  80,  99, 125, 142, 152,\n",
      "       205, 207, 223, 226, 241, 248, 250, 252, 264, 268, 283, 297, 300,\n",
      "       301, 326, 327, 331, 332, 335, 341, 510, 514, 540, 564, 573, 669,\n",
      "       769]),) \n",
      " (array([  3,  36,  37,  44,  52,  64,  78,  79,  80,  99, 125, 142, 152,\n",
      "       205, 207, 223, 226, 241, 248, 250, 252, 264, 268, 283, 297, 300,\n",
      "       301, 326, 327, 331, 332, 335, 341, 510, 514, 540, 564, 573, 669,\n",
      "       769]),)\n"
     ]
    }
   ],
   "source": [
    "print(np.where(tt.dice_score >= np.quantile(tt.dice_score, 0.95)), '\\n',\n",
    "     np.where(tt.iou_score >= np.quantile(tt.iou_score, 0.95)))"
   ]
  },
  {
   "cell_type": "code",
   "execution_count": 11,
   "metadata": {},
   "outputs": [
    {
     "data": {
      "image/png": "[encoded data removed]",
      "text/plain": [
       "<Figure size 432x288 with 3 Axes>"
      ]
     },
     "metadata": {
      "needs_background": "light"
     },
     "output_type": "display_data"
    }
   ],
   "source": [
    "# good prediction\n",
    "tt.test_idx(78, combine = False)"
   ]
  },
  {
   "cell_type": "code",
   "execution_count": 62,
   "metadata": {},
   "outputs": [],
   "source": [
    "# print(np.where(tt.dice_score == np.min(tt.dice_score)), '\\n', np.where(tt.iou_score == np.min(tt.iou_score)))"
   ]
  },
  {
   "cell_type": "code",
   "execution_count": 51,
   "metadata": {},
   "outputs": [],
   "source": [
    "# tt_linknet.test_idx(6, combine = False)"
   ]
  },
  {
   "cell_type": "code",
   "execution_count": null,
   "metadata": {},
   "outputs": [],
   "source": []
  }
 ],
 "metadata": {
  "kernelspec": {
   "display_name": "Python 3",
   "language": "python",
   "name": "python3"
  },
  "language_info": {
   "codemirror_mode": {
    "name": "ipython",
    "version": 3
   },
   "file_extension": ".py",
   "mimetype": "text/x-python",
   "name": "python",
   "nbconvert_exporter": "python",
   "pygments_lexer": "ipython3",
   "version": "3.6.9"
  }
 },
 "nbformat": 4,
 "nbformat_minor": 2
}
