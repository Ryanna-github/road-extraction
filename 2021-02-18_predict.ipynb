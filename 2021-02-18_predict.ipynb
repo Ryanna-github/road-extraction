{
 "cells": [
  {
   "cell_type": "markdown",
   "metadata": {},
   "source": [
    "# Prediction of Test Dataset"
   ]
  },
  {
   "cell_type": "code",
   "execution_count": 1,
   "metadata": {},
   "outputs": [],
   "source": [
    "import torch\n",
    "import matplotlib.pyplot as plt\n",
    "import numpy as np\n",
    "import pickle\n",
    "\n",
    "from models import DLinkNet34, LinkNet34, FarSegNet\n",
    "import data_loader\n",
    "import loss\n",
    "import tester"
   ]
  },
  {
   "cell_type": "code",
   "execution_count": 2,
   "metadata": {},
   "outputs": [],
   "source": [
    "# root_path = 'D://Data/massachusetts-roads-dataset/'\n",
    "root_path = '/home/renyan/ossdata/massachusetts-roads-dataset/'\n",
    "road_path = root_path + \"tiff_select3_parts_16/\"\n",
    "DIR_CHECKPOINT = 'checkpoints/'\n",
    "TEST_SAVE_PATH = '/home/renyan/road-extraction/predict_result/'"
   ]
  },
  {
   "cell_type": "code",
   "execution_count": 3,
   "metadata": {},
   "outputs": [
    {
     "name": "stdout",
     "output_type": "stream",
     "text": [
      "test dataset set: 784 pairs\n"
     ]
    }
   ],
   "source": [
    "INPUT_SIZE, OUTPUT_SIZE = 256, 256\n",
    "test_dataset = data_loader.RoadDataset(road_path, INPUT_SIZE, OUTPUT_SIZE, data_class = 'test')"
   ]
  },
  {
   "cell_type": "code",
   "execution_count": 43,
   "metadata": {},
   "outputs": [],
   "source": [
    "def tt_info(tt):\n",
    "    nan0 = list(set(np.where(np.isnan(tt.dice_score))[0].tolist()).union(set(np.where(tt.dice_score == np.float32(0))[0].tolist())))\n",
    "    print(\"{} pairs both whole black, {} pairs with one whole black\".format(len(np.where(np.isnan(tt.dice_score))[0].tolist()),\n",
    "                                                                           len(np.where(np.isnan(tt.dice_score))[0].tolist())))\n",
    "    dice_score = [t for i, t in enumerate(tt.dice_score) if i not in nan0]\n",
    "    iou_score = [t for i, t in enumerate(tt.iou_score) if i not in nan0]\n",
    "    print(\"Finally: mean dice {}, mean iou {}\".format(np.mean(dice_score), np.mean(iou_score)))"
   ]
  },
  {
   "cell_type": "markdown",
   "metadata": {},
   "source": [
    "## LinkNet"
   ]
  },
  {
   "cell_type": "code",
   "execution_count": 5,
   "metadata": {},
   "outputs": [],
   "source": [
    "# with open('pickle_objects/tt_linknet.pickle', 'rb') as f:  \n",
    "#     tt_linknet = pickle.load(f)"
   ]
  },
  {
   "cell_type": "code",
   "execution_count": 6,
   "metadata": {},
   "outputs": [
    {
     "name": "stdout",
     "output_type": "stream",
     "text": [
      "Tester with net para in v2_linknet34_re_epoch20.pth is ready \n",
      "(threshold = 0.501, 784 pairs in test dataset)\n"
     ]
    }
   ],
   "source": [
    "net = LinkNet34.LinkNet34()\n",
    "device = torch.device('cuda' if torch.cuda.is_available() else 'cpu')\n",
    "tt_linknet = tester.Tester(net = net, \n",
    "                   device = device, \n",
    "                   dir_stat = 'v2_linknet34_re_epoch20.pth', \n",
    "                   test_dataset = test_dataset,\n",
    "                   threshold = 0.501,\n",
    "                   save_path = TEST_SAVE_PATH, \n",
    "                   dir_checkpoint = DIR_CHECKPOINT)"
   ]
  },
  {
   "cell_type": "code",
   "execution_count": 7,
   "metadata": {},
   "outputs": [
    {
     "name": "stderr",
     "output_type": "stream",
     "text": [
      "100%|██████████| 784/784 [01:41<00:00,  7.73it/s]"
     ]
    },
    {
     "name": "stdout",
     "output_type": "stream",
     "text": [
      "current threshold: 0.501\n",
      "mean dice: 0.6729385569654135\n",
      "mean iou: 0.6038084259394872\n"
     ]
    },
    {
     "name": "stderr",
     "output_type": "stream",
     "text": [
      "\n"
     ]
    }
   ],
   "source": [
    "tt_linknet.test_score()"
   ]
  },
  {
   "cell_type": "code",
   "execution_count": 45,
   "metadata": {},
   "outputs": [
    {
     "name": "stdout",
     "output_type": "stream",
     "text": [
      "0 pairs both whole black, 0 pairs with one whole black\n",
      "Finally: mean dice 0.6729385569654135, mean iou 0.6038084259394872\n"
     ]
    }
   ],
   "source": [
    "tt_info(tt_linknet)"
   ]
  },
  {
   "cell_type": "code",
   "execution_count": 27,
   "metadata": {},
   "outputs": [],
   "source": [
    "# tt = tt_linknet\n",
    "# print(np.where(tt.dice_score <= np.quantile(tt.dice_score, 0.05)), '\\n',\n",
    "#      np.where(tt.iou_score <= np.quantile(tt.iou_score, 0.05)))\n",
    "# print(np.where(tt.dice_score >= np.quantile(tt.dice_score, 0.95)), '\\n',\n",
    "#      np.where(tt.iou_score >= np.quantile(tt.iou_score, 0.95)))"
   ]
  },
  {
   "cell_type": "code",
   "execution_count": 28,
   "metadata": {},
   "outputs": [],
   "source": [
    "# tt_linknet.test_idx(706)"
   ]
  },
  {
   "cell_type": "code",
   "execution_count": 33,
   "metadata": {},
   "outputs": [
    {
     "name": "stderr",
     "output_type": "stream",
     "text": [
      "100%|██████████| 784/784 [00:01<00:00, 538.13it/s]\n"
     ]
    }
   ],
   "source": [
    "tt_linknet.save(subfolder = \"test_result/linknet34_re_epoch20/\")"
   ]
  },
  {
   "cell_type": "code",
   "execution_count": 36,
   "metadata": {},
   "outputs": [],
   "source": [
    "# with open('pickle_objects/tt_linknet.pickle','wb') as p:\n",
    "#     pickle.dump(tt_linknet, p)"
   ]
  },
  {
   "cell_type": "markdown",
   "metadata": {},
   "source": [
    "## D-LinkNet"
   ]
  },
  {
   "cell_type": "code",
   "execution_count": null,
   "metadata": {},
   "outputs": [],
   "source": [
    "# with open('pickle_objects/tt_dlinknet.pickle', 'rb') as f:  \n",
    "#     tt_dlinknet = pickle.load(f)"
   ]
  },
  {
   "cell_type": "code",
   "execution_count": 31,
   "metadata": {},
   "outputs": [
    {
     "name": "stdout",
     "output_type": "stream",
     "text": [
      "Tester with net para in v2_dlinknet34_re_epoch20.pth is ready \n",
      "(threshold = 0.503, 784 pairs in test dataset)\n"
     ]
    }
   ],
   "source": [
    "net = DLinkNet34.DLinkNet34()\n",
    "device = torch.device('cuda' if torch.cuda.is_available() else 'cpu')\n",
    "tt_dlinknet = tester.Tester(net = net, \n",
    "                   device = device, \n",
    "                   dir_stat = 'v2_dlinknet34_re_epoch20.pth', \n",
    "                   test_dataset = test_dataset,\n",
    "                   threshold = 0.503,\n",
    "                   save_path = TEST_SAVE_PATH, \n",
    "                   dir_checkpoint = DIR_CHECKPOINT)"
   ]
  },
  {
   "cell_type": "code",
   "execution_count": 32,
   "metadata": {},
   "outputs": [
    {
     "name": "stderr",
     "output_type": "stream",
     "text": [
      "100%|██████████| 784/784 [01:58<00:00,  6.60it/s]"
     ]
    },
    {
     "name": "stdout",
     "output_type": "stream",
     "text": [
      "current threshold: 0.503\n",
      "mean dice: 0.6566187642462598\n",
      "mean iou: 0.5900316609266777\n"
     ]
    },
    {
     "name": "stderr",
     "output_type": "stream",
     "text": [
      "\n"
     ]
    }
   ],
   "source": [
    "tt_dlinknet.test_score()"
   ]
  },
  {
   "cell_type": "code",
   "execution_count": 44,
   "metadata": {},
   "outputs": [
    {
     "name": "stdout",
     "output_type": "stream",
     "text": [
      "0 pairs both whole black, 0 pairs with one whole black\n",
      "Finally: mean dice 0.6566187642462598, mean iou 0.5900316609266777\n"
     ]
    }
   ],
   "source": [
    "tt_info(tt_dlinknet)"
   ]
  },
  {
   "cell_type": "code",
   "execution_count": 37,
   "metadata": {},
   "outputs": [
    {
     "name": "stderr",
     "output_type": "stream",
     "text": [
      "100%|██████████| 784/784 [00:01<00:00, 502.08it/s]\n"
     ]
    }
   ],
   "source": [
    "tt_dlinknet.save(subfolder = \"test_result/dlinknet34_re_epoch20/\")"
   ]
  },
  {
   "cell_type": "code",
   "execution_count": null,
   "metadata": {},
   "outputs": [],
   "source": [
    "# with open('pickle_objects/tt_dlinknet.pickle','wb') as p:\n",
    "#     pickle.dump(tt_dlinknet, p)"
   ]
  },
  {
   "cell_type": "markdown",
   "metadata": {},
   "source": [
    "## FarSeg Net"
   ]
  },
  {
   "cell_type": "code",
   "execution_count": null,
   "metadata": {},
   "outputs": [],
   "source": [
    "# with open('pickle_objects/tt_farseg.pickle', 'rb') as f:  \n",
    "#     tt_farseg = pickle.load(f)"
   ]
  },
  {
   "cell_type": "code",
   "execution_count": 39,
   "metadata": {},
   "outputs": [
    {
     "name": "stdout",
     "output_type": "stream",
     "text": [
      "Tester with net para in re_farseg_epoch33_global_step58212.pth is ready \n",
      "(threshold = 0.5, 784 pairs in test dataset)\n"
     ]
    }
   ],
   "source": [
    "device = torch.device(\"cuda\" if torch.cuda.is_available() else \"cpu\")\n",
    "net = FarSegNet.FarSegNet().to(device)\n",
    "tt_farseg = tester.Tester(net = net, \n",
    "                   device = device, \n",
    "                   dir_stat = 're_farseg_epoch33_global_step58212.pth', \n",
    "                   test_dataset = test_dataset,\n",
    "                   threshold = 0.5,\n",
    "                   save_path = TEST_SAVE_PATH, \n",
    "                   dir_checkpoint = DIR_CHECKPOINT)"
   ]
  },
  {
   "cell_type": "code",
   "execution_count": 41,
   "metadata": {},
   "outputs": [
    {
     "name": "stderr",
     "output_type": "stream",
     "text": [
      "100%|██████████| 784/784 [01:55<00:00,  6.81it/s]"
     ]
    },
    {
     "name": "stdout",
     "output_type": "stream",
     "text": [
      "current threshold: 0.5\n",
      "mean dice: 0.6519711011577956\n",
      "mean iou: 0.5659925790611711\n"
     ]
    },
    {
     "name": "stderr",
     "output_type": "stream",
     "text": [
      "\n"
     ]
    }
   ],
   "source": [
    "tt_farseg.test_score()"
   ]
  },
  {
   "cell_type": "code",
   "execution_count": 46,
   "metadata": {},
   "outputs": [
    {
     "name": "stdout",
     "output_type": "stream",
     "text": [
      "0 pairs both whole black, 0 pairs with one whole black\n",
      "Finally: mean dice 0.6519711011577956, mean iou 0.5659925790611711\n"
     ]
    }
   ],
   "source": [
    "tt_info(tt_farseg)"
   ]
  },
  {
   "cell_type": "code",
   "execution_count": 47,
   "metadata": {},
   "outputs": [
    {
     "name": "stderr",
     "output_type": "stream",
     "text": [
      "  6%|▌         | 47/784 [00:00<00:01, 463.21it/s]"
     ]
    },
    {
     "name": "stdout",
     "output_type": "stream",
     "text": [
      "Build folder of /home/renyan/road-extraction/predict_result/test_result/farseg_re_epoch33/\n"
     ]
    },
    {
     "name": "stderr",
     "output_type": "stream",
     "text": [
      "100%|██████████| 784/784 [00:01<00:00, 556.76it/s]\n"
     ]
    }
   ],
   "source": [
    "tt_farseg.save(subfolder = \"test_result/farseg_re_epoch33/\")"
   ]
  },
  {
   "cell_type": "code",
   "execution_count": 49,
   "metadata": {},
   "outputs": [],
   "source": [
    "# with open('pickle_objects/tt_farseg.pickle','wb') as p:\n",
    "#     pickle.dump(tt_farseg, p)"
   ]
  },
  {
   "cell_type": "markdown",
   "metadata": {},
   "source": [
    "## Save Results"
   ]
  },
  {
   "cell_type": "code",
   "execution_count": 20,
   "metadata": {},
   "outputs": [],
   "source": [
    "# for t in np.arange(0.497, 0.503, 0.001):\n",
    "#     tt.set_threshold(t)\n",
    "#     tt.test_score()\n",
    "#     tt.write_info(\"D-Linknet34\")"
   ]
  },
  {
   "cell_type": "code",
   "execution_count": 7,
   "metadata": {},
   "outputs": [
    {
     "data": {
      "text/plain": [
       "tensor(1., device='cuda:0')"
      ]
     },
     "execution_count": 7,
     "metadata": {},
     "output_type": "execute_result"
    }
   ],
   "source": [
    "tt.pred.max()"
   ]
  },
  {
   "cell_type": "code",
   "execution_count": null,
   "metadata": {},
   "outputs": [],
   "source": [
    "tt.set_threshold(0.9)\n",
    "tt.test_score()\n",
    "tt.write_info(\"D-Linknet34\")"
   ]
  },
  {
   "cell_type": "code",
   "execution_count": 23,
   "metadata": {},
   "outputs": [
    {
     "name": "stderr",
     "output_type": "stream",
     "text": [
      "  8%|▊         | 61/784 [00:00<00:01, 601.71it/s]"
     ]
    },
    {
     "name": "stdout",
     "output_type": "stream",
     "text": [
      "Build folder of /home/renyan/road-extraction/predict_result/test_result/dlinknet34_re_epoch20/\n"
     ]
    },
    {
     "name": "stderr",
     "output_type": "stream",
     "text": [
      "100%|██████████| 784/784 [00:01<00:00, 596.18it/s]\n"
     ]
    }
   ],
   "source": [
    "tt.save(subfolder = \"test_result/dlinknet34_re_epoch20/\")"
   ]
  },
  {
   "cell_type": "markdown",
   "metadata": {},
   "source": [
    "## Good & Bad Prediction Examples"
   ]
  },
  {
   "cell_type": "code",
   "execution_count": 8,
   "metadata": {},
   "outputs": [
    {
     "data": {
      "text/plain": [
       "784"
      ]
     },
     "execution_count": 8,
     "metadata": {},
     "output_type": "execute_result"
    }
   ],
   "source": [
    "len(tt.pred_list)"
   ]
  },
  {
   "cell_type": "code",
   "execution_count": 9,
   "metadata": {},
   "outputs": [
    {
     "name": "stdout",
     "output_type": "stream",
     "text": [
      "(array([  3,  36,  37,  44,  52,  64,  78,  79,  80,  99, 125, 142, 152,\n",
      "       205, 207, 223, 226, 241, 248, 250, 252, 264, 268, 283, 297, 300,\n",
      "       301, 326, 327, 331, 332, 335, 341, 510, 514, 540, 564, 573, 669,\n",
      "       769]),) \n",
      " (array([  3,  36,  37,  44,  52,  64,  78,  79,  80,  99, 125, 142, 152,\n",
      "       205, 207, 223, 226, 241, 248, 250, 252, 264, 268, 283, 297, 300,\n",
      "       301, 326, 327, 331, 332, 335, 341, 510, 514, 540, 564, 573, 669,\n",
      "       769]),)\n"
     ]
    }
   ],
   "source": [
    "print(np.where(tt.dice_score >= np.quantile(tt.dice_score, 0.95)), '\\n',\n",
    "     np.where(tt.iou_score >= np.quantile(tt.iou_score, 0.95)))"
   ]
  },
  {
   "cell_type": "code",
   "execution_count": 11,
   "metadata": {},
   "outputs": [
    {
     "data": {
      "image/png": "[encoded data removed]",
      "text/plain": [
       "<Figure size 432x288 with 3 Axes>"
      ]
     },
     "metadata": {
      "needs_background": "light"
     },
     "output_type": "display_data"
    }
   ],
   "source": [
    "# good prediction\n",
    "tt.test_idx(78, combine = False)"
   ]
  },
  {
   "cell_type": "code",
   "execution_count": 12,
   "metadata": {},
   "outputs": [
    {
     "name": "stdout",
     "output_type": "stream",
     "text": [
      "(array([  6,   7,  31,  41,  67,  75,  95,  96, 106, 109, 110, 113, 114,\n",
      "       117, 118, 119, 122, 129, 130, 131, 133, 134, 135, 139, 140, 143,\n",
      "       145, 149, 159, 178, 179, 182, 183, 184, 188, 189, 190, 218, 224,\n",
      "       227, 235, 238, 239, 244, 245, 260, 261, 281, 282, 291, 311, 314,\n",
      "       317, 318, 319, 359, 360, 364, 365, 366, 373, 380, 406, 407, 501,\n",
      "       505, 509, 511, 516, 517, 521, 522, 526, 527, 554, 558, 559, 562,\n",
      "       563, 589, 591, 640, 659, 701, 710, 713, 721, 729, 746, 755, 778,\n",
      "       779, 781, 782, 783]),) \n",
      " (array([  6,   7,  31,  41,  67,  75,  95,  96, 106, 109, 110, 113, 114,\n",
      "       117, 118, 119, 122, 129, 130, 131, 133, 134, 135, 139, 140, 143,\n",
      "       145, 149, 159, 178, 179, 182, 183, 184, 188, 189, 190, 218, 224,\n",
      "       227, 235, 238, 239, 244, 245, 260, 261, 281, 282, 291, 311, 314,\n",
      "       317, 318, 319, 359, 360, 364, 365, 366, 373, 380, 406, 407, 501,\n",
      "       505, 509, 511, 516, 517, 521, 522, 526, 527, 554, 558, 559, 562,\n",
      "       563, 589, 591, 640, 659, 701, 710, 713, 721, 729, 746, 755, 778,\n",
      "       779, 781, 782, 783]),)\n"
     ]
    }
   ],
   "source": [
    "print(np.where(tt.dice_score == np.min(tt.dice_score)), '\\n', np.where(tt.iou_score == np.min(tt.iou_score)))"
   ]
  },
  {
   "cell_type": "code",
   "execution_count": 51,
   "metadata": {},
   "outputs": [],
   "source": [
    "# tt_linknet.test_idx(6, combine = False)"
   ]
  },
  {
   "cell_type": "code",
   "execution_count": null,
   "metadata": {},
   "outputs": [],
   "source": []
  }
 ],
 "metadata": {
  "kernelspec": {
   "display_name": "Python 3",
   "language": "python",
   "name": "python3"
  },
  "language_info": {
   "codemirror_mode": {
    "name": "ipython",
    "version": 3
   },
   "file_extension": ".py",
   "mimetype": "text/x-python",
   "name": "python",
   "nbconvert_exporter": "python",
   "pygments_lexer": "ipython3",
   "version": "3.6.9"
  }
 },
 "nbformat": 4,
 "nbformat_minor": 2
}
