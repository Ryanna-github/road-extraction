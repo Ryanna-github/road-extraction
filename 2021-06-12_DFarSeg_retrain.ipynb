{
 "cells": [
  {
   "cell_type": "code",
   "execution_count": 7,
   "metadata": {},
   "outputs": [
    {
     "name": "stdout",
     "output_type": "stream",
     "text": [
      "The autoreload extension is already loaded. To reload it, use:\n",
      "  %reload_ext autoreload\n"
     ]
    }
   ],
   "source": [
    "import data_loader\n",
    "import loss\n",
    "import solver\n",
    "import utils\n",
    "from models import FarSegNet, DFarSegNet\n",
    "from torch.utils.data import DataLoader\n",
    "from torch.utils.tensorboard import SummaryWriter\n",
    "from datetime import datetime\n",
    "import torch\n",
    "import matplotlib.pyplot as plt\n",
    "\n",
    "%load_ext autoreload\n",
    "%autoreload 2"
   ]
  },
  {
   "cell_type": "code",
   "execution_count": 37,
   "metadata": {},
   "outputs": [],
   "source": [
    "root_path = '/home/renyan/ossdata/massachusetts-roads-dataset/'\n",
    "# 5 for dilation, 4 for non-dilation\n",
    "road_path = root_path + \"tiff_select5_parts_16/\"\n",
    "INPUT_SIZE, OUTPUT_SIZE = 256, 256\n",
    "BATCH_SIZE = 4\n",
    "LR = 0.0001\n",
    "EPOCH_NUM = 20"
   ]
  },
  {
   "cell_type": "code",
   "execution_count": 3,
   "metadata": {},
   "outputs": [
    {
     "name": "stdout",
     "output_type": "stream",
     "text": [
      "train dataset set: 8836 pairs with sample ratio None\n",
      "val dataset set: 224 pairs with sample ratio None\n"
     ]
    }
   ],
   "source": [
    "train_dataset = data_loader.RoadDataset(road_path, INPUT_SIZE, OUTPUT_SIZE, 'train')\n",
    "val_dataset = data_loader.RoadDataset(road_path, INPUT_SIZE, OUTPUT_SIZE, 'val')"
   ]
  },
  {
   "cell_type": "code",
   "execution_count": 4,
   "metadata": {},
   "outputs": [],
   "source": [
    "train_loader = DataLoader(train_dataset, batch_size = BATCH_SIZE, shuffle = True)\n",
    "val_loader = DataLoader(val_dataset, batch_size = BATCH_SIZE, shuffle = True)"
   ]
  },
  {
   "cell_type": "code",
   "execution_count": 5,
   "metadata": {},
   "outputs": [],
   "source": [
    "img, lbl = next(iter(train_loader))"
   ]
  },
  {
   "cell_type": "code",
   "execution_count": 8,
   "metadata": {},
   "outputs": [
    {
     "data": {
      "text/plain": [
       "<matplotlib.image.AxesImage at 0x7feda3f62198>"
      ]
     },
     "execution_count": 8,
     "metadata": {},
     "output_type": "execute_result"
    },
    {
     "data": {
      "image/png": "[encoded data removed]",
      "text/plain": [
       "<Figure size 432x288 with 1 Axes>"
      ]
     },
     "metadata": {
      "needs_background": "light"
     },
     "output_type": "display_data"
    }
   ],
   "source": [
    "plt.imshow(lbl[0,:,:,:].permute(1, 2, 0))"
   ]
  },
  {
   "cell_type": "code",
   "execution_count": 42,
   "metadata": {},
   "outputs": [],
   "source": [
    "device = torch.device(\"cuda\" if torch.cuda.is_available() else \"cpu\")\n",
    "net = DFarSegNet.DFarSegNet().to(device)\n",
    "criterion = torch.nn.BCEWithLogitsLoss()\n",
    "optimizer = torch.optim.Adam(params = net.parameters(), lr = LR)\n",
    "writer = SummaryWriter(comment=\"tensorboard_log{0:%Y-%m-%dT%H-%M-%S/}\".format(datetime.now()))"
   ]
  },
  {
   "cell_type": "code",
   "execution_count": 77,
   "metadata": {},
   "outputs": [],
   "source": [
    "# img, lbl = next(iter(train_dataset))\n",
    "# img = img.unsqueeze(0).to(device)\n",
    "# net.eval()\n",
    "# prob, pred = net(img)\n",
    "# prob, pred = prob.cpu(), pred.cpu()"
   ]
  },
  {
   "cell_type": "code",
   "execution_count": null,
   "metadata": {},
   "outputs": [],
   "source": [
    "def update_lr_poly(initial_lr, step, max_step, power):\n",
    "    return initial_lr * (1-step/max_step)**power"
   ]
  },
  {
   "cell_type": "code",
   "execution_count": 43,
   "metadata": {},
   "outputs": [
    {
     "name": "stdout",
     "output_type": "stream",
     "text": [
      "[epoch=1/20] step=2209/2209 loss=0.1078/0.1652 miou=0.4131/0.3417 batch_time=1006.6184 reader_time=1006.3718 | ETA 00:16:46\n"
     ]
    },
    {
     "ename": "NameError",
     "evalue": "name 'update_lr_poly' is not defined",
     "output_type": "error",
     "traceback": [
      "\u001b[0;31m---------------------------------------------------------------------------\u001b[0m",
      "\u001b[0;31mNameError\u001b[0m                                 Traceback (most recent call last)",
      "\u001b[0;32m<ipython-input-43-ae80e78aa995>\u001b[0m in \u001b[0;36m<module>\u001b[0;34m\u001b[0m\n\u001b[1;32m     52\u001b[0m     \u001b[0mtorch\u001b[0m\u001b[0;34m.\u001b[0m\u001b[0msave\u001b[0m\u001b[0;34m(\u001b[0m\u001b[0mnet\u001b[0m\u001b[0;34m.\u001b[0m\u001b[0mstate_dict\u001b[0m\u001b[0;34m(\u001b[0m\u001b[0;34m)\u001b[0m\u001b[0;34m,\u001b[0m \u001b[0;34m'checkpoints/farseg_retrain_epoch{}_global_step{}.pth'\u001b[0m\u001b[0;34m.\u001b[0m\u001b[0mformat\u001b[0m\u001b[0;34m(\u001b[0m\u001b[0mepoch\u001b[0m\u001b[0;34m+\u001b[0m\u001b[0;36m1\u001b[0m\u001b[0;34m,\u001b[0m \u001b[0mglobal_step\u001b[0m\u001b[0;34m)\u001b[0m\u001b[0;34m)\u001b[0m\u001b[0;34m\u001b[0m\u001b[0;34m\u001b[0m\u001b[0m\n\u001b[1;32m     53\u001b[0m     \u001b[0mtimer\u001b[0m\u001b[0;34m.\u001b[0m\u001b[0mrestart\u001b[0m\u001b[0;34m(\u001b[0m\u001b[0;34m)\u001b[0m\u001b[0;34m\u001b[0m\u001b[0;34m\u001b[0m\u001b[0m\n\u001b[0;32m---> 54\u001b[0;31m     \u001b[0moptimizer\u001b[0m\u001b[0;34m.\u001b[0m\u001b[0mparam_groups\u001b[0m\u001b[0;34m[\u001b[0m\u001b[0;36m0\u001b[0m\u001b[0;34m]\u001b[0m\u001b[0;34m[\u001b[0m\u001b[0;34m'lr'\u001b[0m\u001b[0;34m]\u001b[0m \u001b[0;34m=\u001b[0m \u001b[0mupdate_lr_poly\u001b[0m\u001b[0;34m(\u001b[0m\u001b[0mLR\u001b[0m\u001b[0;34m,\u001b[0m \u001b[0mepoch\u001b[0m\u001b[0;34m,\u001b[0m \u001b[0mEPOCH_NUM\u001b[0m\u001b[0;34m,\u001b[0m \u001b[0;36m0.9\u001b[0m\u001b[0;34m)\u001b[0m\u001b[0;34m\u001b[0m\u001b[0;34m\u001b[0m\u001b[0m\n\u001b[0m",
      "\u001b[0;31mNameError\u001b[0m: name 'update_lr_poly' is not defined"
     ]
    }
   ],
   "source": [
    "global_step = 0\n",
    "for epoch in range(EPOCH_NUM):\n",
    "    net.train()\n",
    "    \n",
    "    timer, counter = utils.Timer(), utils.Counter()\n",
    "    timer.start()\n",
    "    for step, (img, label) in enumerate(train_loader):\n",
    "        img, label = img.to(device), label.to(device)\n",
    "        reader_time = timer.elapsed_time()\n",
    "\n",
    "        loss, miou = net(img, label)\n",
    "        optimizer.zero_grad()\n",
    "        loss.backward()\n",
    "        optimizer.step()\n",
    "        \n",
    "        loss = float(loss)\n",
    "        batch_time = timer.elapsed_time()\n",
    "        counter.append(loss=loss, miou=miou, reader_time=reader_time, batch_time=batch_time)\n",
    "        eta = utils.calculate_eta(len(train_loader) - step, counter.batch_time)\n",
    "        print(f\"[epoch={epoch + 1}/{EPOCH_NUM}] \"\n",
    "                  f\"step={step + 1}/{len(train_loader)} \"\n",
    "                  f\"loss={loss:.4f}/{counter.loss:.4f} \"\n",
    "                  f\"miou={miou:.4f}/{counter.miou:.4f} \"\n",
    "                  f\"batch_time={counter.batch_time:.4f} \"\n",
    "                  f\"reader_time={counter.reader_time:.4f} \"\n",
    "                  f\"| ETA {eta}\",\n",
    "                  end=\"\\r\",\n",
    "                  flush=True)\n",
    "        if global_step % 200 == 0:\n",
    "            writer.add_scalar(\"Loss\", float(loss), global_step=global_step)\n",
    "            writer.add_scalar(\"miou\", float(miou), global_step=global_step)\n",
    "            writer.add_scalar(\"learning_rate\", optimizer.param_groups[0]['lr'], global_step = global_step)\n",
    "            for tag, value in net.named_parameters():\n",
    "                tag = tag.replace('.', '/')\n",
    "                try:\n",
    "                    writer.add_histogram('weights/' + tag, value.data.cpu().numpy(), global_step)\n",
    "                    writer.add_histogram('grads/' + tag, value.grad.data.cpu().numpy(), global_step)\n",
    "                except:\n",
    "                    pass\n",
    "\n",
    "            net.eval()\n",
    "            with torch.no_grad():\n",
    "                probs, preds = net(img, label)\n",
    "            writer.add_images('image', img, global_step)\n",
    "            writer.add_images('label/true', label, global_step)\n",
    "            writer.add_images('label/pred_0.5', preds, global_step)\n",
    "            net.train()\n",
    "        global_step += 1\n",
    "        writer.flush()\n",
    "        \n",
    "    print()\n",
    "    torch.save(net.state_dict(), 'checkpoints/farseg_retrain_epoch{}_global_step{}.pth'.format(epoch+1, global_step))\n",
    "    timer.restart()\n",
    "    optimizer.param_groups[0]['lr'] = update_lr_poly(LR, epoch, EPOCH_NUM, 0.9)"
   ]
  },
  {
   "cell_type": "code",
   "execution_count": null,
   "metadata": {},
   "outputs": [],
   "source": []
  }
 ],
 "metadata": {
  "kernelspec": {
   "display_name": "Python 3",
   "language": "python",
   "name": "python3"
  },
  "language_info": {
   "codemirror_mode": {
    "name": "ipython",
    "version": 3
   },
   "file_extension": ".py",
   "mimetype": "text/x-python",
   "name": "python",
   "nbconvert_exporter": "python",
   "pygments_lexer": "ipython3",
   "version": "3.6.9"
  }
 },
 "nbformat": 4,
 "nbformat_minor": 2
}
