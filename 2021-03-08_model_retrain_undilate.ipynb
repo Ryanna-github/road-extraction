{
 "cells": [
  {
   "cell_type": "markdown",
   "metadata": {},
   "source": [
    "# Train Model with Original Road Width"
   ]
  },
  {
   "cell_type": "code",
   "execution_count": 8,
   "metadata": {},
   "outputs": [],
   "source": [
    "import data_loader\n",
    "import model\n",
    "import loss\n",
    "import solver\n",
    "\n",
    "import torch"
   ]
  },
  {
   "cell_type": "code",
   "execution_count": 9,
   "metadata": {},
   "outputs": [],
   "source": [
    "root_path = '/home/renyan/ossdata/massachusetts-roads-dataset/'\n",
    "road_path = root_path + \"tiff_select3_parts_16/\"\n",
    "INPUT_SIZE, OUTPUT_SIZE = 256, 256\n",
    "BATCH_SIZE = 4\n",
    "LR = 0.0002\n",
    "EPOCH_NUM = 20"
   ]
  },
  {
   "cell_type": "code",
   "execution_count": 10,
   "metadata": {},
   "outputs": [
    {
     "name": "stdout",
     "output_type": "stream",
     "text": [
      "train dataset set: 7056 pairs\n",
      "val dataset set: 224 pairs\n"
     ]
    }
   ],
   "source": [
    "train_dataset = data_loader.RoadDataset(road_path, INPUT_SIZE, OUTPUT_SIZE, 'train')\n",
    "val_dataset = data_loader.RoadDataset(road_path, INPUT_SIZE, OUTPUT_SIZE, 'val')"
   ]
  },
  {
   "cell_type": "markdown",
   "metadata": {},
   "source": [
    "## LinkNet"
   ]
  },
  {
   "cell_type": "code",
   "execution_count": 4,
   "metadata": {},
   "outputs": [],
   "source": [
    "device = torch.device(\"cuda\" if torch.cuda.is_available() else \"cpu\")\n",
    "net = model.LinkNet34().to(device)\n",
    "net.load_state_dict(torch.load('checkpoints/v2_linknet34_epoch20.pth'))\n",
    "criterion = torch.nn.BCEWithLogitsLoss()\n",
    "optimizer = torch.optim.Adam(params = net.parameters(), lr = LR)\n",
    "scheduler = torch.optim.lr_scheduler.StepLR(optimizer, step_size = 50, gamma = 0.5)"
   ]
  },
  {
   "cell_type": "code",
   "execution_count": 5,
   "metadata": {},
   "outputs": [
    {
     "name": "stdout",
     "output_type": "stream",
     "text": [
      "Net testRe-LinkNet34 initialized.\n"
     ]
    }
   ],
   "source": [
    "sv = solver.Solver(device, net, train_dataset, val_dataset, criterion, LR, BATCH_SIZE, optimizer, scheduler, \"testRe-LinkNet34\")"
   ]
  },
  {
   "cell_type": "code",
   "execution_count": 7,
   "metadata": {},
   "outputs": [],
   "source": [
    "# sv.train(epochs = EPOCH_NUM, save_cp = True, dir_checkpoint = 'checkpoints/', prefix = 'testlinknet34_retrain')"
   ]
  },
  {
   "cell_type": "markdown",
   "metadata": {},
   "source": [
    "## D-LinkNet"
   ]
  },
  {
   "cell_type": "code",
   "execution_count": 11,
   "metadata": {},
   "outputs": [],
   "source": [
    "device = torch.device(\"cuda\" if torch.cuda.is_available() else \"cpu\")\n",
    "net = model.DLinkNet34().to(device)\n",
    "net.load_state_dict(torch.load('checkpoints/v2_dlinknet34_epoch20.pth'))\n",
    "criterion = torch.nn.BCEWithLogitsLoss()\n",
    "optimizer = torch.optim.Adam(params = net.parameters(), lr = LR)\n",
    "scheduler = torch.optim.lr_scheduler.StepLR(optimizer, step_size = 50, gamma = 0.5)"
   ]
  },
  {
   "cell_type": "code",
   "execution_count": 12,
   "metadata": {},
   "outputs": [
    {
     "name": "stdout",
     "output_type": "stream",
     "text": [
      "Net testRe-D-LinkNet34 initialized.\n"
     ]
    }
   ],
   "source": [
    "sv = solver.Solver(device, net, train_dataset, val_dataset, criterion, LR, BATCH_SIZE, optimizer, scheduler, \"testRe-D-LinkNet34\")"
   ]
  },
  {
   "cell_type": "code",
   "execution_count": null,
   "metadata": {},
   "outputs": [
    {
     "name": "stderr",
     "output_type": "stream",
     "text": [
      "Epoch 1/20:  10%|█         | 708/7056 [02:07<20:14,  5.23img/s, loss (batch)=0.678]"
     ]
    },
    {
     "name": "stdout",
     "output_type": "stream",
     "text": [
      "177\n"
     ]
    },
    {
     "name": "stderr",
     "output_type": "stream",
     "text": [
      "Epoch 1/20:  20%|██        | 1416/7056 [04:58<17:05,  5.50img/s, loss (batch)=0.68]  "
     ]
    },
    {
     "name": "stdout",
     "output_type": "stream",
     "text": [
      "354\n"
     ]
    },
    {
     "name": "stderr",
     "output_type": "stream",
     "text": [
      "Epoch 1/20:  30%|███       | 2124/7056 [07:45<16:07,  5.10img/s, loss (batch)=0.674]  "
     ]
    },
    {
     "name": "stdout",
     "output_type": "stream",
     "text": [
      "531\n"
     ]
    },
    {
     "name": "stderr",
     "output_type": "stream",
     "text": [
      "Epoch 1/20:  40%|████      | 2832/7056 [10:26<11:27,  6.14img/s, loss (batch)=0.681]  "
     ]
    },
    {
     "name": "stdout",
     "output_type": "stream",
     "text": [
      "708\n"
     ]
    },
    {
     "name": "stderr",
     "output_type": "stream",
     "text": [
      "Epoch 1/20:  50%|█████     | 3540/7056 [13:01<09:33,  6.13img/s, loss (batch)=0.678]  "
     ]
    },
    {
     "name": "stdout",
     "output_type": "stream",
     "text": [
      "885\n"
     ]
    },
    {
     "name": "stderr",
     "output_type": "stream",
     "text": [
      "Epoch 1/20:  60%|██████    | 4248/7056 [15:35<09:12,  5.08img/s, loss (batch)=0.683]  "
     ]
    },
    {
     "name": "stdout",
     "output_type": "stream",
     "text": [
      "1062\n"
     ]
    },
    {
     "name": "stderr",
     "output_type": "stream",
     "text": [
      "Epoch 1/20:  70%|███████   | 4956/7056 [18:08<06:10,  5.66img/s, loss (batch)=0.685]  "
     ]
    },
    {
     "name": "stdout",
     "output_type": "stream",
     "text": [
      "1239\n"
     ]
    },
    {
     "name": "stderr",
     "output_type": "stream",
     "text": [
      "Epoch 1/20:  80%|████████  | 5664/7056 [20:42<03:57,  5.86img/s, loss (batch)=0.68]   "
     ]
    },
    {
     "name": "stdout",
     "output_type": "stream",
     "text": [
      "1416\n"
     ]
    },
    {
     "name": "stderr",
     "output_type": "stream",
     "text": [
      "Epoch 1/20:  90%|█████████ | 6372/7056 [23:16<02:04,  5.50img/s, loss (batch)=0.679]"
     ]
    },
    {
     "name": "stdout",
     "output_type": "stream",
     "text": [
      "1593\n"
     ]
    },
    {
     "name": "stderr",
     "output_type": "stream",
     "text": [
      "Epoch 1/20: 100%|██████████| 7056/7056 [25:45<00:00,  4.57img/s, loss (batch)=0.686]\n",
      "Epoch 2/20:   0%|          | 24/7056 [00:03<16:41,  7.02img/s, loss (batch)=0.689]"
     ]
    },
    {
     "name": "stdout",
     "output_type": "stream",
     "text": [
      "1770\n"
     ]
    },
    {
     "name": "stderr",
     "output_type": "stream",
     "text": [
      "Epoch 2/20:  10%|█         | 732/7056 [02:25<18:02,  5.84img/s, loss (batch)=0.68]  "
     ]
    },
    {
     "name": "stdout",
     "output_type": "stream",
     "text": [
      "1947\n"
     ]
    }
   ],
   "source": [
    "sv.train(epochs = EPOCH_NUM, save_cp = True, dir_checkpoint = 'checkpoints/', prefix = 'testdlinknet34_retrain')"
   ]
  },
  {
   "cell_type": "code",
   "execution_count": null,
   "metadata": {},
   "outputs": [],
   "source": []
  }
 ],
 "metadata": {
  "kernelspec": {
   "display_name": "Python 3",
   "language": "python",
   "name": "python3"
  },
  "language_info": {
   "codemirror_mode": {
    "name": "ipython",
    "version": 3
   },
   "file_extension": ".py",
   "mimetype": "text/x-python",
   "name": "python",
   "nbconvert_exporter": "python",
   "pygments_lexer": "ipython3",
   "version": "3.6.9"
  }
 },
 "nbformat": 4,
 "nbformat_minor": 2
}
