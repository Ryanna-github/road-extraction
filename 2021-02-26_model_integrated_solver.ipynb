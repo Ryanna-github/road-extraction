{
 "cells": [
  {
   "cell_type": "code",
   "execution_count": 14,
   "metadata": {},
   "outputs": [],
   "source": [
    "import data_loader\n",
    "import model\n",
    "import loss\n",
    "import solver"
   ]
  },
  {
   "cell_type": "code",
   "execution_count": 18,
   "metadata": {},
   "outputs": [],
   "source": [
    "import torch\n",
    "from torch import optim"
   ]
  },
  {
   "cell_type": "code",
   "execution_count": 16,
   "metadata": {},
   "outputs": [],
   "source": [
    "root_path = '/home/renyan/ossdata/massachusetts-roads-dataset/'\n",
    "road_path = root_path + \"tiff_select2_parts_16/\"\n",
    "INPUT_SIZE, OUTPUT_SIZE = 256, 256\n",
    "LR = 0.0005"
   ]
  },
  {
   "cell_type": "code",
   "execution_count": 9,
   "metadata": {},
   "outputs": [
    {
     "name": "stdout",
     "output_type": "stream",
     "text": [
      "Train set: True\n",
      "Count: 7056 pairs\n",
      "Train set: False\n",
      "Count: 224 pairs\n"
     ]
    }
   ],
   "source": [
    "train_dataset = data_loader.RoadDataset(road_path, INPUT_SIZE, OUTPUT_SIZE, True)\n",
    "val_dataset = data_loader.RoadDataset(road_path, INPUT_SIZE, OUTPUT_SIZE, False)"
   ]
  },
  {
   "cell_type": "code",
   "execution_count": 24,
   "metadata": {},
   "outputs": [],
   "source": [
    "device = torch.device(\"cuda\" if torch.cuda.is_available() else \"cpu\")\n",
    "net = model.LinkNet34().to(device)\n",
    "# criterion = loss.dice_loss()\n",
    "criterion = nn.BCEWithLogitsLoss()\n",
    "optimizer = optim.Adam(params = net.parameters(), lr = LR)\n",
    "scheduler = optim.lr_scheduler.ReduceLROnPlateau(optimizer, 'min', patience = 5)"
   ]
  },
  {
   "cell_type": "code",
   "execution_count": 29,
   "metadata": {},
   "outputs": [],
   "source": [
    "import torch\n",
    "from torch import nn\n",
    "from data_loader import *\n",
    "from loss import *\n",
    "from torch.utils.data import Dataset, DataLoader\n",
    "\n",
    "class Solver():\n",
    "    \n",
    "    # initialize basic info\n",
    "    def __init__(self, device, net, train_dataset, val_dataset, loss, lr, optimizer, scheduler):\n",
    "        super(Solver).__init__()\n",
    "        self.loss = loss\n",
    "        self.device = device\n",
    "        self.net = net.to(self.device)\n",
    "        self.optimizer = optimizer\n",
    "        self.scheduler = scheduler\n",
    "        self.lr = lr\n",
    "        self.train_dataset, self.val_dataset = train_dataset, val_dataset\n",
    "        self.n_train, self.n_val = len(self.train_dataset), len(self.val_dataset)\n",
    "        \n",
    "        self.train_loader = DataLoader(self.train_dataset, self.batch_size, shuffle = True)\n",
    "        self.val_loader = DataLoader(self.val_dataset, self.batch_size, shuffle = True)\n",
    "        \n",
    "    def optimize(self, clip = True):\n",
    "        self.optimizer.zero_grad()\n",
    "        self.loss.backward()\n",
    "        if clip:\n",
    "            nn.utils.clip_grad_value_(net.parameters(), 1)\n",
    "        self.optimizer.step()\n",
    "    \n",
    "    # record parameter change in tensorboard\n",
    "    def record_para(self, global_step):\n",
    "        for tag, value in net.named_parameters():\n",
    "            tag = tag.replace('.', '/')\n",
    "            writer.add_histogram('weights/' + tag, value.data.cpu().numpy(), global_step)\n",
    "            writer.add_histogram('grads/' + tag, value.grad.data.cpu().numpy(), global_step)\n",
    "        \n",
    "    # evaluate the net using validation dataset\n",
    "    def eval_net(self):\n",
    "        net.eval()\n",
    "        self.eval_loss = dice_loss()\n",
    "        tot = 0\n",
    "        for batch in self.val_loader:\n",
    "            imgs = batch[0].to(self.device, dtype = torch.float32)\n",
    "            true_masks = batch[1].to(self.device, dtype = torch.float32)\n",
    "            # no grad traced, speed up\n",
    "            with torch.no_grad():\n",
    "                pred_masks = net(imgs)\n",
    "            pred = torch.sigmoid(pred_masks)\n",
    "            pred = (pred > 0.5).float()\n",
    "            tot += self.eval_loss(pred, true_masks).item()\n",
    "        net.train()\n",
    "        return tot / self.n_val\n",
    "    \n",
    "    def save_net(self, dir_checkpoint, preffix):\n",
    "        try:\n",
    "            os.mkdir(dir_checkpoint)\n",
    "        except OSError:\n",
    "            pass\n",
    "        torch.save(net.state_dict(), dir_checkpoint + f'{preffix}_epoch{epoch + 1}.pth')\n",
    "        if os.path.exists(dir_checkpoint + f'{preffix}_epoch{epoch - 4}.pth') & (epoch - 4)//10 != 0:\n",
    "            os.remove(dir_checkpoint + f'{preffix}_epoch{epoch - 4}.pth')\n",
    "    \n",
    "    # training progress...\n",
    "    def train(self, epochs, batch_size, save_cp = True, dir_checkpoint = 'checkpoints/', prefix = ''):\n",
    "        self.batch_size = batch_size\n",
    "        self.writer = SummaryWriter(comment = f'LR_{self.lr}_BS_{self.batch_size}')\n",
    "        criterion = nn.BCEWithLogitsLoss()\n",
    "        global_step = 0\n",
    "        for epoch in range(epochs):\n",
    "            net.train()\n",
    "            epoch_loss = 0\n",
    "            with tqdm(total = self.n_train, desc=f'Epoch {epoch + 1}/{epochs}', unit='img') as pbar:\n",
    "                for batch in self.train_loader:\n",
    "                    imgs = batch[0].to(self.device, dtype = torch.float32)\n",
    "                    true_masks = batch[1].to(self.device, dtype = torch.float32) # 01\n",
    "                    pred_masks = net(imgs)\n",
    "                    loss = self.loss(pred_masks, true_masks)\n",
    "                    epoch_loss += loss.item()\n",
    "                    self.optimize(clip = True)\n",
    "                    \n",
    "                    # record\n",
    "                    writer.add_scalar('Loss/train', loss.item(), global_step)\n",
    "                    pbar.set_postfix(**{'loss (batch)': loss.item()})\n",
    "                    \n",
    "                    # update progress bar\n",
    "                    pbar.update(imgs.shape[0])\n",
    "                    global_step += 1\n",
    "\n",
    "                    # record in tensorboard\n",
    "                    if global_step % (self.n_train // (10 * batch_size) + 1) == 0:\n",
    "                        self.record_para()\n",
    "                        val_score = self.eval_net()\n",
    "                        scheduler.step(val_score)\n",
    "\n",
    "                        writer.add_scalar('Dice/test', val_score, global_step)\n",
    "                        writer.add_scalar('learning_rate', optimizer.param_groups[0]['lr'], global_step)\n",
    "                        writer.add_images('images', imgs, global_step)\n",
    "                        writer.add_images('masks/true', true_masks, global_step)\n",
    "                        writer.add_images('masks/pred_0.5', torch.sigmoid(masks_pred) > 0.5, global_step)\n",
    "            # save the net after each epoch\n",
    "            if save_cp:\n",
    "                self.save_net(dir_checkpoint, preffix)\n",
    "        self.writer.close()\n",
    "        \n",
    "        "
   ]
  },
  {
   "cell_type": "code",
   "execution_count": 30,
   "metadata": {},
   "outputs": [
    {
     "ename": "AttributeError",
     "evalue": "'Solver' object has no attribute 'batch_size'",
     "output_type": "error",
     "traceback": [
      "\u001b[0;31m---------------------------------------------------------------------------\u001b[0m",
      "\u001b[0;31mAttributeError\u001b[0m                            Traceback (most recent call last)",
      "\u001b[0;32m<ipython-input-30-842eb5317f1b>\u001b[0m in \u001b[0;36m<module>\u001b[0;34m\u001b[0m\n\u001b[0;32m----> 1\u001b[0;31m \u001b[0msv\u001b[0m \u001b[0;34m=\u001b[0m \u001b[0mSolver\u001b[0m\u001b[0;34m(\u001b[0m\u001b[0mdevice\u001b[0m\u001b[0;34m,\u001b[0m \u001b[0mnet\u001b[0m\u001b[0;34m,\u001b[0m \u001b[0mtrain_dataset\u001b[0m\u001b[0;34m,\u001b[0m \u001b[0mval_dataset\u001b[0m\u001b[0;34m,\u001b[0m \u001b[0mcriterion\u001b[0m\u001b[0;34m,\u001b[0m \u001b[0mLR\u001b[0m\u001b[0;34m,\u001b[0m \u001b[0moptimizer\u001b[0m\u001b[0;34m,\u001b[0m \u001b[0mscheduler\u001b[0m\u001b[0;34m)\u001b[0m\u001b[0;34m\u001b[0m\u001b[0;34m\u001b[0m\u001b[0m\n\u001b[0m",
      "\u001b[0;32m<ipython-input-29-bef0652f003c>\u001b[0m in \u001b[0;36m__init__\u001b[0;34m(self, device, net, train_dataset, val_dataset, loss, lr, optimizer, scheduler)\u001b[0m\n\u001b[1;32m     19\u001b[0m         \u001b[0mself\u001b[0m\u001b[0;34m.\u001b[0m\u001b[0mn_train\u001b[0m\u001b[0;34m,\u001b[0m \u001b[0mself\u001b[0m\u001b[0;34m.\u001b[0m\u001b[0mn_val\u001b[0m \u001b[0;34m=\u001b[0m \u001b[0mlen\u001b[0m\u001b[0;34m(\u001b[0m\u001b[0mself\u001b[0m\u001b[0;34m.\u001b[0m\u001b[0mtrain_dataset\u001b[0m\u001b[0;34m)\u001b[0m\u001b[0;34m,\u001b[0m \u001b[0mlen\u001b[0m\u001b[0;34m(\u001b[0m\u001b[0mself\u001b[0m\u001b[0;34m.\u001b[0m\u001b[0mval_dataset\u001b[0m\u001b[0;34m)\u001b[0m\u001b[0;34m\u001b[0m\u001b[0;34m\u001b[0m\u001b[0m\n\u001b[1;32m     20\u001b[0m \u001b[0;34m\u001b[0m\u001b[0m\n\u001b[0;32m---> 21\u001b[0;31m         \u001b[0mself\u001b[0m\u001b[0;34m.\u001b[0m\u001b[0mtrain_loader\u001b[0m \u001b[0;34m=\u001b[0m \u001b[0mDataLoader\u001b[0m\u001b[0;34m(\u001b[0m\u001b[0mself\u001b[0m\u001b[0;34m.\u001b[0m\u001b[0mtrain_dataset\u001b[0m\u001b[0;34m,\u001b[0m \u001b[0mself\u001b[0m\u001b[0;34m.\u001b[0m\u001b[0mbatch_size\u001b[0m\u001b[0;34m,\u001b[0m \u001b[0mshuffle\u001b[0m \u001b[0;34m=\u001b[0m \u001b[0;32mTrue\u001b[0m\u001b[0;34m)\u001b[0m\u001b[0;34m\u001b[0m\u001b[0;34m\u001b[0m\u001b[0m\n\u001b[0m\u001b[1;32m     22\u001b[0m         \u001b[0mself\u001b[0m\u001b[0;34m.\u001b[0m\u001b[0mval_loader\u001b[0m \u001b[0;34m=\u001b[0m \u001b[0mDataLoader\u001b[0m\u001b[0;34m(\u001b[0m\u001b[0mself\u001b[0m\u001b[0;34m.\u001b[0m\u001b[0mval_dataset\u001b[0m\u001b[0;34m,\u001b[0m \u001b[0mself\u001b[0m\u001b[0;34m.\u001b[0m\u001b[0mbatch_size\u001b[0m\u001b[0;34m,\u001b[0m \u001b[0mshuffle\u001b[0m \u001b[0;34m=\u001b[0m \u001b[0;32mTrue\u001b[0m\u001b[0;34m)\u001b[0m\u001b[0;34m\u001b[0m\u001b[0;34m\u001b[0m\u001b[0m\n\u001b[1;32m     23\u001b[0m \u001b[0;34m\u001b[0m\u001b[0m\n",
      "\u001b[0;31mAttributeError\u001b[0m: 'Solver' object has no attribute 'batch_size'"
     ]
    }
   ],
   "source": [
    "sv = Solver(device, net, train_dataset, val_dataset, criterion, LR, optimizer, scheduler)"
   ]
  },
  {
   "cell_type": "code",
   "execution_count": null,
   "metadata": {},
   "outputs": [],
   "source": []
  }
 ],
 "metadata": {
  "kernelspec": {
   "display_name": "Python 3",
   "language": "python",
   "name": "python3"
  },
  "language_info": {
   "codemirror_mode": {
    "name": "ipython",
    "version": 3
   },
   "file_extension": ".py",
   "mimetype": "text/x-python",
   "name": "python",
   "nbconvert_exporter": "python",
   "pygments_lexer": "ipython3",
   "version": "3.6.9"
  }
 },
 "nbformat": 4,
 "nbformat_minor": 2
}
