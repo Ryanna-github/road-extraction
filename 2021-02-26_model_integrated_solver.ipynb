{
 "cells": [
  {
   "cell_type": "code",
   "execution_count": 1,
   "metadata": {},
   "outputs": [],
   "source": [
    "import data_loader\n",
    "import model\n",
    "import loss\n",
    "import solver"
   ]
  },
  {
   "cell_type": "code",
   "execution_count": 2,
   "metadata": {},
   "outputs": [],
   "source": [
    "import torch\n",
    "from torch import optim, nn\n",
    "from torch.utils.tensorboard import SummaryWriter\n",
    "from tqdm import tqdm"
   ]
  },
  {
   "cell_type": "code",
   "execution_count": 3,
   "metadata": {},
   "outputs": [],
   "source": [
    "root_path = '/home/renyan/ossdata/massachusetts-roads-dataset/'\n",
    "road_path = root_path + \"tiff_select2_parts_16/\"\n",
    "INPUT_SIZE, OUTPUT_SIZE = 256, 256\n",
    "BATCH_SIZE = 4\n",
    "LR = 0.0005\n",
    "EPOCH_NUM = 20"
   ]
  },
  {
   "cell_type": "code",
   "execution_count": 4,
   "metadata": {},
   "outputs": [
    {
     "name": "stdout",
     "output_type": "stream",
     "text": [
      "Train set: True\n",
      "Count: 7056 pairs\n",
      "Train set: False\n",
      "Count: 224 pairs\n"
     ]
    }
   ],
   "source": [
    "train_dataset = data_loader.RoadDataset(road_path, INPUT_SIZE, OUTPUT_SIZE, True)\n",
    "val_dataset = data_loader.RoadDataset(road_path, INPUT_SIZE, OUTPUT_SIZE, False)"
   ]
  },
  {
   "cell_type": "code",
   "execution_count": 37,
   "metadata": {},
   "outputs": [],
   "source": [
    "device = torch.device(\"cuda\" if torch.cuda.is_available() else \"cpu\")\n",
    "net = model.LinkNet34().to(device)\n",
    "# criterion = loss.dice_loss()\n",
    "criterion = nn.BCEWithLogitsLoss()\n",
    "optimizer = optim.Adam(params = net.parameters(), lr = LR)\n",
    "scheduler = optim.lr_scheduler.ReduceLROnPlateau(optimizer, 'min', patience = 5)"
   ]
  },
  {
   "cell_type": "code",
   "execution_count": 38,
   "metadata": {},
   "outputs": [],
   "source": [
    "import torch\n",
    "from torch import nn\n",
    "from data_loader import *\n",
    "from loss import *\n",
    "from torch.utils.data import Dataset, DataLoader\n",
    "\n",
    "class Solver():\n",
    "    \n",
    "    # initialize basic info\n",
    "    def __init__(self, device, net, train_dataset, val_dataset, loss, lr, batch_size, optimizer, scheduler):\n",
    "        super(Solver).__init__()\n",
    "        self.loss = loss\n",
    "        self.device = device\n",
    "        self.net = net.to(self.device)\n",
    "        self.optimizer = optimizer\n",
    "        self.scheduler = scheduler\n",
    "        self.batch_size = batch_size\n",
    "        self.lr = lr\n",
    "        self.train_dataset, self.val_dataset = train_dataset, val_dataset\n",
    "        self.n_train, self.n_val = len(self.train_dataset), len(self.val_dataset)\n",
    "        \n",
    "        self.train_loader = DataLoader(self.train_dataset, self.batch_size, shuffle = True)\n",
    "        self.val_loader = DataLoader(self.val_dataset, self.batch_size, shuffle = True)\n",
    "        \n",
    "    def optimize(self, pred_masks, true_masks, clip = True):\n",
    "        cur_loss = self.loss(pred_masks, true_masks)\n",
    "        self.optimizer.zero_grad()\n",
    "        cur_loss.backward()\n",
    "        if clip:\n",
    "            nn.utils.clip_grad_value_(net.parameters(), 1)\n",
    "        self.optimizer.step()\n",
    "        return cur_loss\n",
    "        \n",
    "    \n",
    "    # record parameter change in tensorboard\n",
    "    def record_para(self, global_step):\n",
    "        for tag, value in net.named_parameters():\n",
    "            tag = tag.replace('.', '/')\n",
    "            self.writer.add_histogram('weights/' + tag, value.data.cpu().numpy(), global_step)\n",
    "            self.writer.add_histogram('grads/' + tag, value.grad.data.cpu().numpy(), global_step)\n",
    "        \n",
    "    # evaluate the net using validation dataset\n",
    "    def eval_net(self):\n",
    "        net.eval()\n",
    "        self.eval_loss = dice_loss()\n",
    "        tot = 0\n",
    "        for batch in self.val_loader:\n",
    "            imgs = batch[0].to(self.device, dtype = torch.float32)\n",
    "            true_masks = batch[1].to(self.device, dtype = torch.float32)\n",
    "            # no grad traced, speed up\n",
    "            with torch.no_grad():\n",
    "                pred_masks = net(imgs)\n",
    "            pred = torch.sigmoid(pred_masks)\n",
    "            pred = (pred > 0.5).float()\n",
    "            tot += self.eval_loss(pred, true_masks).item()\n",
    "        net.train()\n",
    "        return tot / self.n_val\n",
    "    \n",
    "    def save_net(self, epoch, dir_checkpoint, preffix):\n",
    "        try:\n",
    "            os.mkdir(dir_checkpoint)\n",
    "        except OSError:\n",
    "            pass\n",
    "        torch.save(net.state_dict(), dir_checkpoint + f'{preffix}_epoch{epoch + 1}.pth')\n",
    "        if os.path.exists(dir_checkpoint + f'{preffix}_epoch{epoch - 4}.pth') & (epoch - 4)//10 != 0:\n",
    "            os.remove(dir_checkpoint + f'{preffix}_epoch{epoch - 4}.pth')\n",
    "    \n",
    "    # training progress...\n",
    "    def train(self, epochs, save_cp = True, dir_checkpoint = 'checkpoints/', prefix = ''):\n",
    "        self.writer = SummaryWriter(comment = f'LR_{self.lr}_BS_{self.batch_size}')\n",
    "        criterion = nn.BCEWithLogitsLoss()\n",
    "        global_step = 0\n",
    "        for epoch in range(epochs):\n",
    "            net.train()\n",
    "            epoch_loss = 0\n",
    "            with tqdm(total = self.n_train, desc=f'Epoch {epoch + 1}/{epochs}', unit='img') as pbar:\n",
    "                for batch in self.train_loader:\n",
    "                    imgs = batch[0].to(self.device, dtype = torch.float32)\n",
    "                    true_masks = batch[1].to(self.device, dtype = torch.float32) # 01\n",
    "                    pred_masks = net(imgs)\n",
    "                    cur_loss = self.optimize(pred_masks, true_masks, clip = True)\n",
    "                    \n",
    "                    epoch_loss += cur_loss.item()\n",
    "                    \n",
    "                    # record\n",
    "                    self.writer.add_scalar('Loss/train', cur_loss.item(), global_step)\n",
    "                    pbar.set_postfix(**{'loss (batch)': cur_loss.item()})\n",
    "                    \n",
    "                    # update progress bar\n",
    "                    pbar.update(imgs.shape[0])\n",
    "                    global_step += 1\n",
    "\n",
    "                    # record in tensorboard\n",
    "                    if global_step % (self.n_train // (10 * self.batch_size) + 1) == 0:\n",
    "                        self.record_para(global_step)\n",
    "                        val_score = self.eval_net()\n",
    "                        scheduler.step(val_score)\n",
    "\n",
    "                        self.writer.add_scalar('Dice/test', val_score, global_step)\n",
    "                        self.writer.add_scalar('learning_rate', optimizer.param_groups[0]['lr'], global_step)\n",
    "                        self.writer.add_images('images', imgs, global_step)\n",
    "                        self.writer.add_images('masks/true', true_masks, global_step)\n",
    "                        self.writer.add_images('masks/pred_0.5', torch.sigmoid(pred_masks) > 0.5, global_step)\n",
    "            # save the net after each epoch\n",
    "            if save_cp:\n",
    "                self.save_net(epoch, dir_checkpoint, prefix)\n",
    "        self.writer.close()"
   ]
  },
  {
   "cell_type": "code",
   "execution_count": 39,
   "metadata": {},
   "outputs": [],
   "source": [
    "sv = Solver(device, net, train_dataset, val_dataset, criterion, LR, BATCH_SIZE, optimizer, scheduler)"
   ]
  },
  {
   "cell_type": "code",
   "execution_count": null,
   "metadata": {},
   "outputs": [
    {
     "name": "stderr",
     "output_type": "stream",
     "text": [
      "Epoch 2/20: 100%|██████████| 7056/7056 [21:38<00:00,  5.44img/s, loss (batch)=0.655]  \n",
      "Epoch 3/20: 100%|██████████| 7056/7056 [21:06<00:00,  5.57img/s, loss (batch)=0.66]   \n",
      "Epoch 4/20: 100%|██████████| 7056/7056 [21:46<00:00,  5.40img/s, loss (batch)=0.683]  \n",
      "Epoch 5/20:  34%|███▍      | 2388/7056 [07:23<11:05,  7.01img/s, loss (batch)=0.657]  "
     ]
    }
   ],
   "source": [
    "sv.train(epochs = EPOCH_NUM, save_cp = True, dir_checkpoint = 'checkpoints/', prefix = 'test')"
   ]
  },
  {
   "cell_type": "code",
   "execution_count": null,
   "metadata": {},
   "outputs": [],
   "source": []
  }
 ],
 "metadata": {
  "kernelspec": {
   "display_name": "Python 3",
   "language": "python",
   "name": "python3"
  },
  "language_info": {
   "codemirror_mode": {
    "name": "ipython",
    "version": 3
   },
   "file_extension": ".py",
   "mimetype": "text/x-python",
   "name": "python",
   "nbconvert_exporter": "python",
   "pygments_lexer": "ipython3",
   "version": "3.6.9"
  }
 },
 "nbformat": 4,
 "nbformat_minor": 2
}
