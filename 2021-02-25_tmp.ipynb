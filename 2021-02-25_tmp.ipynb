{
 "cells": [
  {
   "cell_type": "code",
   "execution_count": 1,
   "metadata": {},
   "outputs": [],
   "source": [
    "import data_loader\n",
    "import model\n",
    "import loss\n",
    "import solver\n",
    "\n",
    "import torch\n",
    "from torch import optim, nn\n",
    "from tqdm import tqdm"
   ]
  },
  {
   "cell_type": "code",
   "execution_count": 2,
   "metadata": {},
   "outputs": [],
   "source": [
    "root_path = '/home/renyan/ossdata/massachusetts-roads-dataset/'\n",
    "road_path = root_path + \"tiff_select2_parts_16/\"\n",
    "INPUT_SIZE, OUTPUT_SIZE = 256, 256\n",
    "BATCH_SIZE = 4\n",
    "LR = 0.0005\n",
    "EPOCH_NUM = 20"
   ]
  },
  {
   "cell_type": "code",
   "execution_count": 3,
   "metadata": {},
   "outputs": [
    {
     "name": "stdout",
     "output_type": "stream",
     "text": [
      "Train set: True\n",
      "Count: 7056 pairs\n",
      "Train set: False\n",
      "Count: 224 pairs\n"
     ]
    }
   ],
   "source": [
    "# use of this function changed later.. see file written in March\n",
    "train_dataset = data_loader.RoadDataset(road_path, INPUT_SIZE, OUTPUT_SIZE, True)\n",
    "val_dataset = data_loader.RoadDataset(road_path, INPUT_SIZE, OUTPUT_SIZE, False)"
   ]
  },
  {
   "cell_type": "code",
   "execution_count": 4,
   "metadata": {},
   "outputs": [],
   "source": [
    "device = torch.device(\"cuda\" if torch.cuda.is_available() else \"cpu\")\n",
    "net = model.LinkNet34().to(device)\n",
    "criterion = loss.dice_bce_loss()\n",
    "optimizer = optim.Adam(params = net.parameters(), lr = LR)\n",
    "scheduler = optim.lr_scheduler.ReduceLROnPlateau(optimizer, 'min', patience = 5)\n",
    "torch.optim.lr_scheduler.StepLR(optimizer, step_size = 5, gamma = 0.5)"
   ]
  },
  {
   "cell_type": "code",
   "execution_count": 5,
   "metadata": {},
   "outputs": [],
   "source": [
    "sv = solver.Solver(device, net, train_dataset, val_dataset, criterion, LR, BATCH_SIZE, optimizer, scheduler)"
   ]
  },
  {
   "cell_type": "code",
   "execution_count": 6,
   "metadata": {},
   "outputs": [
    {
     "name": "stderr",
     "output_type": "stream",
     "text": [
      "Epoch 1/20: 100%|██████████| 7056/7056 [17:18<00:00,  6.79img/s, loss (batch)=0.36]   \n",
      "Epoch 2/20: 100%|██████████| 7056/7056 [19:24<00:00,  6.06img/s, loss (batch)=0.434]  \n",
      "Epoch 3/20: 100%|██████████| 7056/7056 [21:11<00:00,  5.55img/s, loss (batch)=0.328]  \n",
      "Epoch 4/20: 100%|██████████| 7056/7056 [21:16<00:00,  5.53img/s, loss (batch)=0.416]  \n",
      "Epoch 5/20: 100%|██████████| 7056/7056 [20:46<00:00,  5.66img/s, loss (batch)=0.399]  \n",
      "Epoch 6/20: 100%|██████████| 7056/7056 [19:48<00:00,  5.93img/s, loss (batch)=0.445]  \n",
      "Epoch 7/20:   6%|▌         | 392/7056 [01:14<14:22,  7.73img/s, loss (batch)=0.463]  IOPub message rate exceeded.\n",
      "The notebook server will temporarily stop sending output\n",
      "to the client in order to avoid crashing it.\n",
      "To change this limit, set the config variable\n",
      "`--NotebookApp.iopub_msg_rate_limit`.\n",
      "\n",
      "Current values:\n",
      "NotebookApp.iopub_msg_rate_limit=1000.0 (msgs/sec)\n",
      "NotebookApp.rate_limit_window=3.0 (secs)\n",
      "\n",
      "Epoch 8/20: 100%|██████████| 7056/7056 [19:00<00:00,  6.19img/s, loss (batch)=0.405]  \n",
      "Epoch 9/20:   2%|▏         | 136/7056 [00:16<15:44,  7.33img/s, loss (batch)=0.362]IOPub message rate exceeded.\n",
      "The notebook server will temporarily stop sending output\n",
      "to the client in order to avoid crashing it.\n",
      "To change this limit, set the config variable\n",
      "`--NotebookApp.iopub_msg_rate_limit`.\n",
      "\n",
      "Current values:\n",
      "NotebookApp.iopub_msg_rate_limit=1000.0 (msgs/sec)\n",
      "NotebookApp.rate_limit_window=3.0 (secs)\n",
      "\n",
      "Epoch 9/20: 100%|██████████| 7056/7056 [18:34<00:00,  6.33img/s, loss (batch)=0.505]\n",
      "Epoch 10/20: 100%|██████████| 7056/7056 [17:58<00:00,  6.54img/s, loss (batch)=0.301]  \n",
      "Epoch 12/20: 100%|██████████| 7056/7056 [18:16<00:00,  6.44img/s, loss (batch)=0.367]  \n",
      "Epoch 13/20:  81%|████████  | 5732/7056 [14:52<02:52,  7.67img/s, loss (batch)=0.395]  IOPub message rate exceeded.\n",
      "The notebook server will temporarily stop sending output\n",
      "to the client in order to avoid crashing it.\n",
      "To change this limit, set the config variable\n",
      "`--NotebookApp.iopub_msg_rate_limit`.\n",
      "\n",
      "Current values:\n",
      "NotebookApp.iopub_msg_rate_limit=1000.0 (msgs/sec)\n",
      "NotebookApp.rate_limit_window=3.0 (secs)\n",
      "\n",
      "Epoch 15/20:  89%|████████▉ | 6268/7056 [16:20<01:42,  7.67img/s, loss (batch)=0.465]  IOPub message rate exceeded.\n",
      "The notebook server will temporarily stop sending output\n",
      "to the client in order to avoid crashing it.\n",
      "To change this limit, set the config variable\n",
      "`--NotebookApp.iopub_msg_rate_limit`.\n",
      "\n",
      "Current values:\n",
      "NotebookApp.iopub_msg_rate_limit=1000.0 (msgs/sec)\n",
      "NotebookApp.rate_limit_window=3.0 (secs)\n",
      "\n",
      "Epoch 17/20:  99%|█████████▉| 7012/7056 [17:57<00:05,  7.49img/s, loss (batch)=0.44]   IOPub message rate exceeded.\n",
      "The notebook server will temporarily stop sending output\n",
      "to the client in order to avoid crashing it.\n",
      "To change this limit, set the config variable\n",
      "`--NotebookApp.iopub_msg_rate_limit`.\n",
      "\n",
      "Current values:\n",
      "NotebookApp.iopub_msg_rate_limit=1000.0 (msgs/sec)\n",
      "NotebookApp.rate_limit_window=3.0 (secs)\n",
      "\n",
      "Epoch 19/20: 100%|██████████| 7056/7056 [18:03<00:00,  6.51img/s, loss (batch)=0.758]  \n",
      "Epoch 20/20:  11%|█         | 788/7056 [01:52<11:55,  8.76img/s, loss (batch)=0.38]   IOPub message rate exceeded.\n",
      "The notebook server will temporarily stop sending output\n",
      "to the client in order to avoid crashing it.\n",
      "To change this limit, set the config variable\n",
      "`--NotebookApp.iopub_msg_rate_limit`.\n",
      "\n",
      "Current values:\n",
      "NotebookApp.iopub_msg_rate_limit=1000.0 (msgs/sec)\n",
      "NotebookApp.rate_limit_window=3.0 (secs)\n",
      "\n"
     ]
    }
   ],
   "source": [
    "sv.train(epochs = EPOCH_NUM, save_cp = True, dir_checkpoint = 'checkpoints/', prefix = 'bcetest')"
   ]
  },
  {
   "cell_type": "code",
   "execution_count": null,
   "metadata": {},
   "outputs": [],
   "source": []
  }
 ],
 "metadata": {
  "kernelspec": {
   "display_name": "Python 3",
   "language": "python",
   "name": "python3"
  },
  "language_info": {
   "codemirror_mode": {
    "name": "ipython",
    "version": 3
   },
   "file_extension": ".py",
   "mimetype": "text/x-python",
   "name": "python",
   "nbconvert_exporter": "python",
   "pygments_lexer": "ipython3",
   "version": "3.6.9"
  }
 },
 "nbformat": 4,
 "nbformat_minor": 2
}
