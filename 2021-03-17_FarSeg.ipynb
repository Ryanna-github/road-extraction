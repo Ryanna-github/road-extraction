{
 "cells": [
  {
   "cell_type": "code",
   "execution_count": 1,
   "metadata": {},
   "outputs": [],
   "source": [
    "import torch\n",
    "from torch import nn, optim\n",
    "from torch.nn import functional as F\n",
    "import torchvision\n",
    "from torchvision import models\n",
    "from torchsummary import summary\n",
    "from torch.utils.tensorboard import SummaryWriter\n",
    "from torch.utils.data import DataLoader\n",
    "from datetime import datetime\n",
    "import matplotlib.pyplot as plt\n",
    "\n",
    "import data_loader\n",
    "import utils"
   ]
  },
  {
   "cell_type": "code",
   "execution_count": 2,
   "metadata": {},
   "outputs": [],
   "source": [
    "class Decoder(nn.Module):\n",
    "    def __init__(self, c_in, scale):\n",
    "        super(Decoder, self).__init__()\n",
    "\n",
    "        assert scale in [1, 2, 4, 8]\n",
    "\n",
    "        if scale >= 1:\n",
    "            self.conv1 = Conv2dBN(c_in, c_in, 3, padding=1)\n",
    "        if scale >= 4:\n",
    "            self.conv2 = Conv2dBN(c_in, c_in, 3, padding=1)\n",
    "        if scale >= 8:\n",
    "            self.conv3 = Conv2dBN(c_in, c_in, 3, padding=1)\n",
    "\n",
    "        self.scale = scale\n",
    "\n",
    "    def forward(self, x):\n",
    "        if self.scale >= 1:\n",
    "            x = self.conv1(x)\n",
    "            if self.scale == 1:\n",
    "                return x\n",
    "\n",
    "        if self.scale >= 2:\n",
    "            x = F.interpolate(x, scale_factor=2, mode=\"bilinear\", align_corners=True)\n",
    "\n",
    "        if self.scale >= 4:\n",
    "            x = self.conv2(x)\n",
    "            x = F.interpolate(x, scale_factor=2, mode=\"bilinear\", align_corners=True)\n",
    "\n",
    "        if self.scale >= 8:\n",
    "            x = self.conv3(x)\n",
    "            x = F.interpolate(x, scale_factor=2, mode=\"bilinear\", align_corners=True)\n",
    "\n",
    "        return x"
   ]
  },
  {
   "cell_type": "code",
   "execution_count": 3,
   "metadata": {},
   "outputs": [],
   "source": [
    "class FSModule(nn.Module):\n",
    "    def __init__(self, cv, cu):\n",
    "        super(FSModule, self).__init__()\n",
    "\n",
    "        self.conv1 = Conv2dBN(cv, cu, 1)\n",
    "        self.conv2 = Conv2dBN(cv, cu, 1)\n",
    "\n",
    "    def forward(self, v, u):\n",
    "        x = self.conv1(v)\n",
    "        r = torch.mul(x, u)\n",
    "        k = self.conv2(v)\n",
    "        z = k / (1 + torch.exp(-r))\n",
    "        return z"
   ]
  },
  {
   "cell_type": "code",
   "execution_count": 4,
   "metadata": {},
   "outputs": [],
   "source": [
    "class Conv2dBN(nn.Module):\n",
    "    def __init__(self, c_in, c_out, filter_size, stride=1, padding=0, **kwargs):\n",
    "        super(Conv2dBN, self).__init__()\n",
    "        self.conv = nn.Conv2d(c_in, c_out, filter_size, stride=stride, padding=padding, **kwargs)\n",
    "        self.bn = nn.BatchNorm2d(c_out)\n",
    "        self.relu = nn.ReLU()\n",
    "\n",
    "    def forward(self, x):\n",
    "        return self.relu(self.bn(self.conv(x)))"
   ]
  },
  {
   "cell_type": "code",
   "execution_count": 5,
   "metadata": {},
   "outputs": [],
   "source": [
    "class FarSegNet(nn.Module):\n",
    "    def __init__(self, num_classes = 1, num_feature = 256, pretrained = False, ignore_index = 500):\n",
    "        super(FarSegNet, self).__init__()\n",
    "        \n",
    "        self.num_classes = num_classes\n",
    "        self.num_feature = num_feature\n",
    "        self.ignore_index = ignore_index # ignore losses of this class\n",
    "        self.EPS = 1e-5\n",
    "        self.current_step = 0\n",
    "        self.annealing_step = 2000\n",
    "        self.focal_factor = 4\n",
    "        self.focal_z = 1.0\n",
    "        \n",
    "        self.backbone = torchvision.models.resnet50(pretrained=True)\n",
    "        self.backbone_layer_c2 = nn.Sequential(*list(self.backbone.children())[:5])\n",
    "        self.backbone_layer_c3 = list(self.backbone.children())[5]\n",
    "        self.backbone_layer_c4 = list(self.backbone.children())[6]\n",
    "        self.backbone_layer_c5 = list(self.backbone.children())[7]\n",
    "        \n",
    "        self.conv_c6 = nn.Conv2d(2048, num_feature, 1)\n",
    "        self.conv_c5 = nn.Conv2d(2048, num_feature, 1)\n",
    "        self.conv_c4 = nn.Conv2d(1024, num_feature, 1)\n",
    "        self.conv_c3 = nn.Conv2d(512, num_feature, 1)\n",
    "        self.conv_c2 = nn.Conv2d(256, num_feature, 1)\n",
    "\n",
    "        self.fs5 = FSModule(num_feature, num_feature)\n",
    "        self.fs4 = FSModule(num_feature, num_feature)\n",
    "        self.fs3 = FSModule(num_feature, num_feature)\n",
    "        self.fs2 = FSModule(num_feature, num_feature)\n",
    "\n",
    "        self.up5 = Decoder(num_feature, 8)\n",
    "        self.up4 = Decoder(num_feature, 4)\n",
    "        self.up3 = Decoder(num_feature, 2)\n",
    "        self.up2 = Decoder(num_feature, 1)\n",
    "\n",
    "        self.classify = nn.Conv2d(num_feature, num_classes, 3, padding=1)\n",
    "    \n",
    "    def forward(self, x, label = None):\n",
    "        c2 = self.backbone_layer_c2(x)\n",
    "        c3 = self.backbone_layer_c3(c2)\n",
    "        c4 = self.backbone_layer_c4(c3)\n",
    "        c5 = self.backbone_layer_c5(c4)\n",
    "        c6 = F.adaptive_avg_pool2d(c5, (1, 1))\n",
    "        u = self.conv_c6(c6)\n",
    "        \n",
    "        p5 = self.conv_c5(c5)\n",
    "        p4 = (self.conv_c4(c4) + F.interpolate(p5, scale_factor = 2)) / 2.\n",
    "        p3 = (self.conv_c3(c3) + F.interpolate(p4, scale_factor = 2)) / 2.\n",
    "        p2 = (self.conv_c2(c2) + F.interpolate(p3, scale_factor = 2)) / 2.\n",
    "        \n",
    "        z5 = self.fs5(p5, u)\n",
    "        z4 = self.fs4(p4, u)\n",
    "        z3 = self.fs3(p3, u)\n",
    "        z2 = self.fs2(p2, u)\n",
    "\n",
    "        o5 = self.up5(z5)\n",
    "        o4 = self.up4(z4)\n",
    "        o3 = self.up3(z3)\n",
    "        o2 = self.up2(z2)\n",
    "        \n",
    "        x = (o5 + o4 + o3 + o2) / 4.\n",
    "        x = F.interpolate(x, scale_factor = 4, mode = \"bilinear\", align_corners = True)\n",
    "        logit = self.classify(x)\n",
    "        \n",
    "        if self.training:\n",
    "            return self._get_loss(logit, label), self._get_miou(logit, label)\n",
    "        else:\n",
    "            probs = torch.sigmoid(logit)\n",
    "            preds = (probs > 0.5).int()\n",
    "            return probs, preds\n",
    "        \n",
    "    def _get_loss(self, logit, label):\n",
    "\n",
    "        logit, label = logit.flatten(), label.flatten()\n",
    "        loss = nn.BCEWithLogitsLoss(reduction='none')(logit, label)\n",
    "\n",
    "        probs = torch.sigmoid(logit) # probability\n",
    "        p = ((1-label) + (-1)**(1+label)*probs).squeeze() # label should be 0 or 1\n",
    "\n",
    "        z = torch.pow(1.0 - p, self.focal_factor)\n",
    "        z = self.focal_z * z\n",
    "\n",
    "        if self.current_step < self.annealing_step:\n",
    "            z = z + (1 - z) * (1 - self.current_step / self.annealing_step)\n",
    "        self.current_step += 1\n",
    "\n",
    "        loss = z * loss\n",
    "        avg_loss = torch.mean(loss)\n",
    "        return avg_loss\n",
    "\n",
    "    def _get_miou(self, logit, label):\n",
    "        \n",
    "        miou_sum, miou_count = 0, 0\n",
    "        for batch_idx in range(label.shape[0]):\n",
    "            pred_one = (torch.sigmoid(logit[batch_idx].flatten()) > 0.5).int()\n",
    "            label_one = label[batch_idx].flatten()\n",
    "            intersection = (pred_one * label_one).sum()\n",
    "            union = pred_one.sum() + label_one.sum()\n",
    "            \n",
    "            miou_sum += intersection / union\n",
    "            miou_count += 1\n",
    "            \n",
    "        return miou_sum / miou_count"
   ]
  },
  {
   "cell_type": "code",
   "execution_count": 6,
   "metadata": {},
   "outputs": [],
   "source": [
    "net = FarSegNet().cuda()"
   ]
  },
  {
   "cell_type": "code",
   "execution_count": 7,
   "metadata": {},
   "outputs": [
    {
     "data": {
      "text/plain": [
       "(tensor(0.7393, device='cuda:0', grad_fn=<MeanBackward0>),\n",
       " tensor(0.2400, device='cuda:0'))"
      ]
     },
     "execution_count": 7,
     "metadata": {},
     "output_type": "execute_result"
    }
   ],
   "source": [
    "x = torch.rand((4, 3, 256 ,256)).cuda()\n",
    "label = torch.ones((4, 1, 256 ,256)).cuda()    \n",
    "net(x, label)"
   ]
  },
  {
   "cell_type": "markdown",
   "metadata": {},
   "source": [
    "## Train"
   ]
  },
  {
   "cell_type": "code",
   "execution_count": 8,
   "metadata": {},
   "outputs": [],
   "source": [
    "root_path = '/home/renyan/ossdata/massachusetts-roads-dataset/'\n",
    "road_path = root_path + \"tiff_select2_parts_16/\"\n",
    "INPUT_SIZE, OUTPUT_SIZE = 256, 256\n",
    "BATCH_SIZE = 4\n",
    "EPOCH_NUM = 20\n",
    "LR = 0.0002"
   ]
  },
  {
   "cell_type": "code",
   "execution_count": 9,
   "metadata": {},
   "outputs": [
    {
     "name": "stdout",
     "output_type": "stream",
     "text": [
      "train dataset set: 7056 pairs\n",
      "val dataset set: 224 pairs\n"
     ]
    }
   ],
   "source": [
    "train_dataset = data_loader.RoadDataset(road_path, INPUT_SIZE, OUTPUT_SIZE, 'train')\n",
    "val_dataset = data_loader.RoadDataset(road_path, INPUT_SIZE, OUTPUT_SIZE, 'val')"
   ]
  },
  {
   "cell_type": "code",
   "execution_count": 10,
   "metadata": {},
   "outputs": [],
   "source": [
    "train_loader = DataLoader(train_dataset, batch_size = BATCH_SIZE, shuffle = True)\n",
    "val_loader = DataLoader(val_dataset, batch_size = BATCH_SIZE, shuffle = True)"
   ]
  },
  {
   "cell_type": "code",
   "execution_count": 11,
   "metadata": {},
   "outputs": [],
   "source": [
    "device = torch.device(\"cuda\" if torch.cuda.is_available() else \"cpu\")\n",
    "net = FarSegNet().to(device)"
   ]
  },
  {
   "cell_type": "code",
   "execution_count": 12,
   "metadata": {},
   "outputs": [],
   "source": [
    "optimizer = optim.SGD(params = net.parameters(), lr=LR, momentum=0.9, weight_decay=1e-4)"
   ]
  },
  {
   "cell_type": "code",
   "execution_count": 13,
   "metadata": {},
   "outputs": [],
   "source": [
    "writer = SummaryWriter(comment=\"tensorboard_log{0:%Y-%m-%dT%H-%M-%S/}\".format(datetime.now()))"
   ]
  },
  {
   "cell_type": "code",
   "execution_count": 14,
   "metadata": {},
   "outputs": [
    {
     "data": {
      "text/plain": [
       "True"
      ]
     },
     "execution_count": 14,
     "metadata": {},
     "output_type": "execute_result"
    }
   ],
   "source": [
    "net.backbone.fc.weight.requires_grad"
   ]
  },
  {
   "cell_type": "code",
   "execution_count": null,
   "metadata": {},
   "outputs": [
    {
     "name": "stdout",
     "output_type": "stream",
     "text": [
      "[epoch=1/20] step=11/1764 loss=0.4247/0.5603 miou=0.0000/0.0218 batch_time=41.4150 reader_time=41.2960 | ETA 20:10:41\r"
     ]
    }
   ],
   "source": [
    "global_step = 0\n",
    "for epoch in range(EPOCH_NUM):\n",
    "    net.train()\n",
    "    \n",
    "    timer, counter = utils.Timer(), utils.Counter()\n",
    "    timer.start()\n",
    "    for step, (img, label) in enumerate(train_loader):\n",
    "        img, label = img.to(device), label.to(device)\n",
    "        reader_time = timer.elapsed_time()\n",
    "\n",
    "        loss, miou = net(img, label)\n",
    "        optimizer.zero_grad()\n",
    "#         net.backbone.fc.weight.retain_grad()\n",
    "#         net.backbone.fc.bias.retain_grad()\n",
    "        loss.backward()\n",
    "        optimizer.step()\n",
    "        \n",
    "        loss = float(loss)\n",
    "        batch_time = timer.elapsed_time()\n",
    "        counter.append(loss=loss, miou=miou, reader_time=reader_time, batch_time=batch_time)\n",
    "        eta = utils.calculate_eta(len(train_loader) - step, counter.batch_time)\n",
    "        print(f\"[epoch={epoch + 1}/{EPOCH_NUM}] \"\n",
    "                  f\"step={step + 1}/{len(train_loader)} \"\n",
    "                  f\"loss={loss:.4f}/{counter.loss:.4f} \"\n",
    "                  f\"miou={miou:.4f}/{counter.miou:.4f} \"\n",
    "                  f\"batch_time={counter.batch_time:.4f} \"\n",
    "                  f\"reader_time={counter.reader_time:.4f} \"\n",
    "                  f\"| ETA {eta}\",\n",
    "                  end=\"\\r\",\n",
    "                  flush=True)\n",
    "        \n",
    "        # record every batch (global step)\n",
    "        writer.add_scalar(\"Loss\", float(loss), global_step=global_step)\n",
    "        writer.add_scalar(\"miou\", float(miou), global_step=global_step)\n",
    "        writer.add_scalar(\"learning_rate\", optimizer.param_groups[0]['lr'], global_step = global_step)\n",
    "        for tag, value in net.named_parameters():\n",
    "            tag = tag.replace('.', '/')\n",
    "            writer.add_histogram('weights/' + tag, value.data.cpu().numpy(), global_step)\n",
    "            try:\n",
    "                writer.add_histogram('grads/' + tag, value.grad.data.cpu().numpy(), global_step)\n",
    "            except:\n",
    "                pass\n",
    "#                 print(tag)\n",
    "#                 print(value.shape, value.dtype)\n",
    "        if global_step % 40 == 0:\n",
    "            net.eval()\n",
    "            with torch.no_grad():\n",
    "                probs, preds = net(img, label)\n",
    "            writer.add_images('label/true', img, global_step)\n",
    "            writer.add_images('label/pred_0.5', preds, global_step)\n",
    "            net.train()\n",
    "        global_step += 1\n",
    "        writer.flush()\n",
    "        \n",
    "    print()\n",
    "    torch.save(net.state_dict(), 'checkpoints/farseg_epoch{}_global_step{}.pth'.format(epoch, global_step))\n",
    "    timer.restart()"
   ]
  },
  {
   "cell_type": "code",
   "execution_count": null,
   "metadata": {},
   "outputs": [],
   "source": [
    "img, lbl = next(iter(train_loader))\n",
    "net.eval()\n",
    "tt = net(img.cuda(), lbl.cuda())"
   ]
  },
  {
   "cell_type": "code",
   "execution_count": 128,
   "metadata": {},
   "outputs": [
    {
     "data": {
      "text/plain": [
       "<matplotlib.image.AxesImage at 0x7fcf6fe86b00>"
      ]
     },
     "execution_count": 128,
     "metadata": {},
     "output_type": "execute_result"
    },
    {
     "data": {
      "image/png": "[encoded data removed]",
      "text/plain": [
       "<Figure size 432x288 with 1 Axes>"
      ]
     },
     "metadata": {
      "needs_background": "light"
     },
     "output_type": "display_data"
    }
   ],
   "source": [
    "pp = torch.cat([tt[1][0]]*3).permute(1, 2, 0)\n",
    "plt.imshow((pp*255).cpu())"
   ]
  },
  {
   "cell_type": "code",
   "execution_count": 133,
   "metadata": {},
   "outputs": [
    {
     "data": {
      "text/plain": [
       "<matplotlib.image.AxesImage at 0x7fcf6fe07240>"
      ]
     },
     "execution_count": 133,
     "metadata": {},
     "output_type": "execute_result"
    },
    {
     "data": {
      "image/png": "[encoded data removed]",
      "text/plain": [
       "<Figure size 432x288 with 1 Axes>"
      ]
     },
     "metadata": {
      "needs_background": "light"
     },
     "output_type": "display_data"
    }
   ],
   "source": [
    "lbl_img = torch.cat([lbl[0]]*3).permute(1, 2, 0)\n",
    "lbl_img.shape\n",
    "plt.imshow(lbl_img)"
   ]
  }
 ],
 "metadata": {
  "kernelspec": {
   "display_name": "Python 3",
   "language": "python",
   "name": "python3"
  },
  "language_info": {
   "codemirror_mode": {
    "name": "ipython",
    "version": 3
   },
   "file_extension": ".py",
   "mimetype": "text/x-python",
   "name": "python",
   "nbconvert_exporter": "python",
   "pygments_lexer": "ipython3",
   "version": "3.6.9"
  }
 },
 "nbformat": 4,
 "nbformat_minor": 2
}
