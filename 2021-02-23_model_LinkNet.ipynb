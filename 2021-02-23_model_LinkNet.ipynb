{
 "cells": [
  {
   "cell_type": "markdown",
   "metadata": {},
   "source": [
    "# LinkNet"
   ]
  },
  {
   "cell_type": "code",
   "execution_count": 49,
   "metadata": {},
   "outputs": [],
   "source": [
    "import torch\n",
    "import torch.nn as nn\n",
    "from torch.utils.data import Dataset, DataLoader\n",
    "from torch.autograd import Variable\n",
    "from torchvision import models\n",
    "import torch.nn.functional as F\n",
    "from functools import partial\n",
    "\n",
    "import data_loader\n",
    "from torchsummary import summary"
   ]
  },
  {
   "cell_type": "code",
   "execution_count": 46,
   "metadata": {},
   "outputs": [],
   "source": [
    "# SHAPE = (256, 256)\n",
    "INPUT_SIZE, OUTPUT_SIZE = 256, 256\n",
    "# ROOT = 'dataset/train/'\n",
    "# root_path = 'D://Data/massachusetts-roads-dataset/'\n",
    "root_path = '/home/renyan/ossdata/massachusetts-roads-dataset/'\n",
    "road_path = root_path + \"tiff_select2_parts_16/\"\n",
    "\n",
    "# imagelist = filter(lambda x: x.find('sat')!=-1, os.listdir(ROOT))\n",
    "# trainlist = map(lambda x: x[:-8], imagelist)\n",
    "# NAME = 'log01_dink34'\n",
    "BATCH_SIZE = 4\n",
    "EPOCH_NUM = 20\n",
    "# BATCHSIZE_PER_CARD = 4"
   ]
  },
  {
   "cell_type": "markdown",
   "metadata": {},
   "source": [
    "## Model"
   ]
  },
  {
   "cell_type": "code",
   "execution_count": 21,
   "metadata": {},
   "outputs": [],
   "source": [
    "class LinkNet34(nn.Module):\n",
    "    def __init__(self, num_classes=1):\n",
    "        super(LinkNet34, self).__init__()\n",
    "        self.nonlinearity = partial(F.relu,inplace=True)\n",
    "\n",
    "        filters = [64, 128, 256, 512]\n",
    "        resnet = models.resnet34(pretrained = True)\n",
    "        self.firstconv = resnet.conv1\n",
    "        self.firstbn = resnet.bn1\n",
    "        self.firstrelu = resnet.relu\n",
    "        self.firstmaxpool = resnet.maxpool\n",
    "        self.encoder1 = resnet.layer1\n",
    "        self.encoder2 = resnet.layer2\n",
    "        self.encoder3 = resnet.layer3\n",
    "        self.encoder4 = resnet.layer4\n",
    "\n",
    "        self.decoder4 = DecoderBlock(filters[3], filters[2])\n",
    "        self.decoder3 = DecoderBlock(filters[2], filters[1])\n",
    "        self.decoder2 = DecoderBlock(filters[1], filters[0])\n",
    "        self.decoder1 = DecoderBlock(filters[0], filters[0])\n",
    "\n",
    "        self.finaldeconv1 = nn.ConvTranspose2d(filters[0], 32, 3, stride=2)\n",
    "        self.finalrelu1 = self.nonlinearity\n",
    "        self.finalconv2 = nn.Conv2d(32, 32, 3)\n",
    "        self.finalrelu2 = self.nonlinearity\n",
    "        self.finalconv3 = nn.Conv2d(32, num_classes, 2, padding=1)\n",
    "\n",
    "    def forward(self, x):\n",
    "        # Encoder\n",
    "        x = self.firstconv(x)\n",
    "        x = self.firstbn(x)\n",
    "        x = self.firstrelu(x)\n",
    "        x = self.firstmaxpool(x)\n",
    "        e1 = self.encoder1(x)\n",
    "        e2 = self.encoder2(e1)\n",
    "        e3 = self.encoder3(e2)\n",
    "        e4 = self.encoder4(e3)\n",
    "\n",
    "        # Decoder\n",
    "        d4 = self.decoder4(e4) + e3\n",
    "        d3 = self.decoder3(d4) + e2\n",
    "        d2 = self.decoder2(d3) + e1\n",
    "        d1 = self.decoder1(d2)\n",
    "        out = self.finaldeconv1(d1)\n",
    "        out = self.finalrelu1(out)\n",
    "        out = self.finalconv2(out)\n",
    "        out = self.finalrelu2(out)\n",
    "        out = self.finalconv3(out)\n",
    "\n",
    "        return torch.sigmoid(out)"
   ]
  },
  {
   "cell_type": "code",
   "execution_count": 22,
   "metadata": {},
   "outputs": [],
   "source": [
    "class DecoderBlock(nn.Module):\n",
    "    def __init__(self, in_channels, n_filters):\n",
    "        super(DecoderBlock,self).__init__()\n",
    "        self.nonlinearity = partial(F.relu,inplace=True)\n",
    "\n",
    "        self.conv1 = nn.Conv2d(in_channels, in_channels // 4, 1)\n",
    "        self.norm1 = nn.BatchNorm2d(in_channels // 4)\n",
    "        self.relu1 = self.nonlinearity\n",
    "\n",
    "        self.deconv2 = nn.ConvTranspose2d(in_channels // 4, in_channels // 4, 3, stride=2, padding=1, output_padding=1)\n",
    "        self.norm2 = nn.BatchNorm2d(in_channels // 4)\n",
    "        self.relu2 = self.nonlinearity\n",
    "\n",
    "        self.conv3 = nn.Conv2d(in_channels // 4, n_filters, 1)\n",
    "        self.norm3 = nn.BatchNorm2d(n_filters)\n",
    "        self.relu3 = self.nonlinearity\n",
    "\n",
    "    def forward(self, x):\n",
    "        x = self.conv1(x)\n",
    "        x = self.norm1(x)\n",
    "        x = self.relu1(x)\n",
    "        x = self.deconv2(x)\n",
    "        x = self.norm2(x)\n",
    "        x = self.relu2(x)\n",
    "        x = self.conv3(x)\n",
    "        x = self.norm3(x)\n",
    "        x = self.relu3(x)\n",
    "        return x"
   ]
  },
  {
   "cell_type": "code",
   "execution_count": 43,
   "metadata": {},
   "outputs": [],
   "source": [
    "# tnet = LinkNet34().cuda()\n",
    "# summary(tnet, (3, 256, 256))"
   ]
  },
  {
   "cell_type": "markdown",
   "metadata": {},
   "source": [
    "## BCE loss function"
   ]
  },
  {
   "cell_type": "code",
   "execution_count": 5,
   "metadata": {},
   "outputs": [],
   "source": [
    "class dice_bce_loss(nn.Module):\n",
    "    def __init__(self, batch=True):\n",
    "        super(dice_bce_loss, self).__init__()\n",
    "        self.batch = batch\n",
    "        self.bce_loss = nn.BCELoss()\n",
    "        \n",
    "    def soft_dice_coeff(self, y_true, y_pred):\n",
    "        smooth = 0.0  # may change\n",
    "        if self.batch:\n",
    "            i = torch.sum(y_true)\n",
    "            j = torch.sum(y_pred)\n",
    "            intersection = torch.sum(y_true * y_pred)\n",
    "        else:\n",
    "            i = y_true.sum(1).sum(1).sum(1)\n",
    "            j = y_pred.sum(1).sum(1).sum(1)\n",
    "            intersection = (y_true * y_pred).sum(1).sum(1).sum(1)\n",
    "        score = (2. * intersection + smooth) / (i + j + smooth)\n",
    "        #score = (intersection + smooth) / (i + j - intersection + smooth)#iou\n",
    "        return score.mean()\n",
    "\n",
    "    def soft_dice_loss(self, y_true, y_pred):\n",
    "        loss = 1 - self.soft_dice_coeff(y_true, y_pred)\n",
    "        return loss\n",
    "        \n",
    "    def __call__(self, y_true, y_pred):\n",
    "        a =  self.bce_loss(y_pred, y_true)\n",
    "        b =  self.soft_dice_loss(y_true, y_pred)\n",
    "        return a + b"
   ]
  },
  {
   "cell_type": "markdown",
   "metadata": {},
   "source": [
    "## Data"
   ]
  },
  {
   "cell_type": "code",
   "execution_count": 47,
   "metadata": {},
   "outputs": [
    {
     "name": "stdout",
     "output_type": "stream",
     "text": [
      "Read 7056 images\n",
      "Read 224 images\n"
     ]
    }
   ],
   "source": [
    "train_dataset = data_loader.RoadDataset(road_path, True, INPUT_SIZE, OUTPUT_SIZE)\n",
    "val_dataset = data_loader.RoadDataset(road_path, False, INPUT_SIZE, OUTPUT_SIZE)"
   ]
  },
  {
   "cell_type": "code",
   "execution_count": 51,
   "metadata": {},
   "outputs": [],
   "source": [
    "train_loader = DataLoader(train_dataset, BATCH_SIZE, shuffle = False)\n",
    "val_loader = DataLoader(val_dataset, batch_size = BATCH_SIZE, shuffle = False)"
   ]
  },
  {
   "cell_type": "markdown",
   "metadata": {},
   "source": [
    "## Train"
   ]
  },
  {
   "cell_type": "code",
   "execution_count": null,
   "metadata": {},
   "outputs": [],
   "source": [
    "for epoch in range(1):\n",
    "    data_loader_iter = iter(data_loader)\n",
    "    train_epoch_loss = 0\n",
    "    for img, mask in train_loader:\n",
    "        solver.set_input(img, mask)\n",
    "        train_loss = solver.optimize()\n",
    "        train_epoch_loss += train_loss\n",
    "    train_epoch_loss /= len(data_loader_iter)"
   ]
  }
 ],
 "metadata": {
  "kernelspec": {
   "display_name": "Python 3",
   "language": "python",
   "name": "python3"
  },
  "language_info": {
   "codemirror_mode": {
    "name": "ipython",
    "version": 3
   },
   "file_extension": ".py",
   "mimetype": "text/x-python",
   "name": "python",
   "nbconvert_exporter": "python",
   "pygments_lexer": "ipython3",
   "version": "3.6.9"
  }
 },
 "nbformat": 4,
 "nbformat_minor": 2
}
