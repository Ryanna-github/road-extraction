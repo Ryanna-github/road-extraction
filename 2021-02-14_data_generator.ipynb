{
 "cells": [
  {
   "cell_type": "markdown",
   "metadata": {},
   "source": [
    "# Data Generotor\n",
    "\n",
    "- Task1: Select a portion of the large dataset with appropriate road ratio\n",
    "\n",
    "\n",
    "- Task2: Transform data\n",
    "    - Rotation etc\n",
    "    - Split data into pieces"
   ]
  },
  {
   "cell_type": "code",
   "execution_count": 1,
   "metadata": {},
   "outputs": [],
   "source": [
    "import matplotlib.pyplot as plt\n",
    "import numpy as np\n",
    "import pandas as pd\n",
    "from tqdm import tqdm\n",
    "import itertools\n",
    "import os\n",
    "import cv2"
   ]
  },
  {
   "cell_type": "code",
   "execution_count": 2,
   "metadata": {},
   "outputs": [],
   "source": [
    "# dilate & split setting\n",
    "root_path = 'D://Data/massachusetts-roads-dataset/'\n",
    "# root_path = '/home/renyan/ossdata/massachusetts-roads-dataset/'\n",
    "\n",
    "road_class_type_path_from = 'tiff/'\n",
    "road_class_type_path_to = 'tiff_select5/'\n",
    "road_class_type_path_to_split = \"tiff_select5_parts_16/\"\n",
    "road_path_from = root_path + road_class_type_path_from\n",
    "road_path_to = root_path + road_class_type_path_to\n",
    "road_path_to_split = root_path + road_class_type_path_to_split"
   ]
  },
  {
   "cell_type": "code",
   "execution_count": 3,
   "metadata": {},
   "outputs": [],
   "source": [
    "# # split setting\n",
    "# root_path = 'D://Data/massachusetts-roads-dataset/'\n",
    "# # root_path = '/home/renyan/ossdata/massachusetts-roads-dataset/'\n",
    "\n",
    "# road_class_type_path_from = 'tiff/'\n",
    "# road_class_type_path_to = 'tiff_select3/'\n",
    "# road_class_type_path_to_split = \"tiff_select3_parts_16/\"\n",
    "# road_path_from = root_path + road_class_type_path_from\n",
    "# road_path_to = root_path + road_class_type_path_to\n",
    "# road_path_to_split = root_path + road_class_type_path_to_split"
   ]
  },
  {
   "cell_type": "markdown",
   "metadata": {},
   "source": [
    "## Selection"
   ]
  },
  {
   "cell_type": "code",
   "execution_count": 4,
   "metadata": {},
   "outputs": [],
   "source": [
    "# get all file paths\n",
    "def get_file_subpaths(path, whole = True, sort = True):\n",
    "    path_prefix = path if whole else \"\"\n",
    "    subpaths = [path_prefix + file_name for file_name in list(os.walk(path))[0][2]]\n",
    "    if sort:\n",
    "        subpaths.sort()\n",
    "    return subpaths"
   ]
  },
  {
   "cell_type": "code",
   "execution_count": 5,
   "metadata": {},
   "outputs": [],
   "source": [
    "# For labels: Select pairs with high road ratio as EXCELLENT DATASET\n",
    "def road_ratio(label):\n",
    "    flat = label.flatten()\n",
    "    flat = flat/255 if flat.max() > 1 else flat\n",
    "    return flat.sum()/np.prod(label.shape)\n",
    "\n",
    "# For images: Select pairs with little white ratio as GOOD DATASET\n",
    "def valid_ratio(img):\n",
    "    flat = img.flatten()/255 if img.max() > 1 else img.flatten()\n",
    "    valid_ratio = np.sum(np.ceil(1-flat))/np.prod(img.shape)\n",
    "    return valid_ratio"
   ]
  },
  {
   "cell_type": "code",
   "execution_count": 6,
   "metadata": {},
   "outputs": [],
   "source": [
    "# plot selected image-label pair with valid_ratio and road_ratio\n",
    "def plot_selection(idx, p_img, p_lbl, valid_ratios, road_ratios, limit = 0):\n",
    "    if limit == 0:\n",
    "        limit = len(idx)\n",
    "    for i in idx[:limit]:\n",
    "        plt.figure()\n",
    "        plt.subplot(1,2,1)\n",
    "        plt.imshow(cv2.imread(p_img[i]))\n",
    "        plt.title(str(valid_ratios[i]))\n",
    "        plt.subplot(1,2,2)\n",
    "        plt.imshow(cv2.imread(p_lbl[i]))\n",
    "        plt.title(str(road_ratios[i]))"
   ]
  },
  {
   "cell_type": "code",
   "execution_count": 7,
   "metadata": {},
   "outputs": [],
   "source": [
    "# save files of old paths to new paths\n",
    "# dilated_para: None for no dilation, [kernel, itr_num]\n",
    "def save_copy_dilate(old_paths, new_paths, dilated_para = None):\n",
    "    for i, (old_path, new_path) in enumerate(zip(old_paths, new_paths)):\n",
    "        if dilated_para:\n",
    "            kernel = np.ones((dilated_para[0], dilated_para[0]),np.uint8)\n",
    "            t = cv2.dilate(cv2.imread(old_path), kernel, dilated_para[1])\n",
    "        else:\n",
    "            t = cv2.imread(old_path)\n",
    "        cv2.imwrite(new_path, t)\n",
    "    print(\"Copy {} files.!\".format(len(new_paths)))"
   ]
  },
  {
   "cell_type": "code",
   "execution_count": 8,
   "metadata": {},
   "outputs": [],
   "source": [
    "# make directory\n",
    "def mkdir_level2(folder_path, sub_folder_names = None):\n",
    "    if not os.path.isdir(folder_path):\n",
    "        os.mkdir(folder_path) \n",
    "        print(folder_path + \" --- built!\")\n",
    "    if sub_folder_names:\n",
    "        for sub_folder_name in sub_folder_names:\n",
    "            if not os.path.isdir(folder_path + sub_folder_name + \"/\"):\n",
    "                os.mkdir(folder_path + sub_folder_name + \"/\") \n",
    "        print(\"{} sub_folder done.\".format(len(sub_folder_names)))"
   ]
  },
  {
   "cell_type": "code",
   "execution_count": 9,
   "metadata": {},
   "outputs": [
    {
     "data": {
      "text/plain": [
       "'D://Data/massachusetts-roads-dataset/tiff/train/'"
      ]
     },
     "execution_count": 9,
     "metadata": {},
     "output_type": "execute_result"
    }
   ],
   "source": [
    "road_path_from + \"train/\""
   ]
  },
  {
   "cell_type": "code",
   "execution_count": 10,
   "metadata": {},
   "outputs": [],
   "source": [
    "train_p_img = get_file_subpaths(road_path_from + \"train/\")\n",
    "train_p_lbl = get_file_subpaths(road_path_from + \"train_labels/\")"
   ]
  },
  {
   "cell_type": "code",
   "execution_count": 11,
   "metadata": {},
   "outputs": [
    {
     "name": "stderr",
     "output_type": "stream",
     "text": [
      "100%|██████████| 1108/1108 [01:59<00:00,  9.25it/s]\n"
     ]
    }
   ],
   "source": [
    "valid_ratios = [valid_ratio(cv2.imread(t)) for t in tqdm(train_p_img)]"
   ]
  },
  {
   "cell_type": "code",
   "execution_count": 12,
   "metadata": {},
   "outputs": [
    {
     "name": "stderr",
     "output_type": "stream",
     "text": [
      "100%|██████████| 1108/1108 [00:56<00:00, 19.63it/s]\n"
     ]
    }
   ],
   "source": [
    "road_ratios = [road_ratio(cv2.imread(t)) for t in tqdm(train_p_lbl)]"
   ]
  },
  {
   "cell_type": "code",
   "execution_count": 13,
   "metadata": {},
   "outputs": [],
   "source": [
    "# plt.hist(valid_ratios, bins = 20);"
   ]
  },
  {
   "cell_type": "code",
   "execution_count": 14,
   "metadata": {},
   "outputs": [],
   "source": [
    "# plt.hist(road_ratios, bins = 20);"
   ]
  },
  {
   "cell_type": "code",
   "execution_count": 15,
   "metadata": {},
   "outputs": [
    {
     "name": "stdout",
     "output_type": "stream",
     "text": [
      "0.8 0.01800551111111111\n"
     ]
    }
   ],
   "source": [
    "# valid_threshold = np.percentile(valid_ratios, 95)\n",
    "valid_threshold = np.float64(0.8)\n",
    "road_threshold = np.percentile(road_ratios, 20)\n",
    "print(valid_threshold, road_threshold)"
   ]
  },
  {
   "cell_type": "code",
   "execution_count": 16,
   "metadata": {},
   "outputs": [
    {
     "name": "stdout",
     "output_type": "stream",
     "text": [
      "841 886\n"
     ]
    }
   ],
   "source": [
    "valid_idx = np.where(valid_ratios >= valid_threshold)[0].tolist()\n",
    "road_idx = np.where(road_ratios >= road_threshold)[0].tolist()\n",
    "print(len(valid_idx), len(road_idx))"
   ]
  },
  {
   "cell_type": "code",
   "execution_count": 17,
   "metadata": {},
   "outputs": [
    {
     "name": "stdout",
     "output_type": "stream",
     "text": [
      "excel and valid (707):\n",
      " [1, 2, 9, 10, 11, 13, 17, 18, 19, 20]\n"
     ]
    }
   ],
   "source": [
    "target_idx = list(set(valid_idx).intersection(set(road_idx)))\n",
    "print(\"excel and valid ({}):\\n {}\".format(len(target_idx), target_idx[:10]))"
   ]
  },
  {
   "cell_type": "code",
   "execution_count": 18,
   "metadata": {},
   "outputs": [
    {
     "data": {
      "image/png": "[encoded data removed]",
      "text/plain": [
       "<Figure size 432x288 with 2 Axes>"
      ]
     },
     "metadata": {
      "needs_background": "light"
     },
     "output_type": "display_data"
    }
   ],
   "source": [
    "plot_selection(target_idx, train_p_img, train_p_lbl, valid_ratios, road_ratios, 1)"
   ]
  },
  {
   "cell_type": "code",
   "execution_count": 19,
   "metadata": {},
   "outputs": [
    {
     "data": {
      "text/plain": [
       "'D://Data/massachusetts-roads-dataset/tiff_select5/'"
      ]
     },
     "execution_count": 19,
     "metadata": {},
     "output_type": "execute_result"
    }
   ],
   "source": [
    "road_path_to"
   ]
  },
  {
   "cell_type": "code",
   "execution_count": 20,
   "metadata": {},
   "outputs": [
    {
     "name": "stdout",
     "output_type": "stream",
     "text": [
      "D://Data/massachusetts-roads-dataset/tiff_select5/ --- built!\n",
      "6 sub_folder done.\n"
     ]
    }
   ],
   "source": [
    "mkdir_level2(road_path_to, [\"train\", \"train_labels\", \"val\", \"val_labels\", \"test\", \"test_labels\"])"
   ]
  },
  {
   "cell_type": "code",
   "execution_count": 21,
   "metadata": {},
   "outputs": [
    {
     "name": "stdout",
     "output_type": "stream",
     "text": [
      "Copy 707 files.!\n"
     ]
    }
   ],
   "source": [
    "# train image\n",
    "old_paths = [train_p_img[i] for i in target_idx]\n",
    "new_paths = [road_path_to + \"train/\" + file_name for file_name in [t.split(\"/\")[-1] for t in old_paths]]\n",
    "save_copy_dilate(old_paths, new_paths)"
   ]
  },
  {
   "cell_type": "code",
   "execution_count": 22,
   "metadata": {},
   "outputs": [
    {
     "name": "stdout",
     "output_type": "stream",
     "text": [
      "Copy 707 files.!\n"
     ]
    }
   ],
   "source": [
    "# tain label\n",
    "old_paths = [train_p_lbl[i] for i in target_idx]\n",
    "new_paths = [road_path_to + \"train_labels/\" + file_name for file_name in [t.split(\"/\")[-1] for t in old_paths]]\n",
    "save_copy_dilate(old_paths, new_paths, [5, 1])\n",
    "# save_copy_dilate(old_paths, new_paths)"
   ]
  },
  {
   "cell_type": "code",
   "execution_count": 23,
   "metadata": {},
   "outputs": [
    {
     "name": "stdout",
     "output_type": "stream",
     "text": [
      "Copy 14 files.!\n",
      "Copy 14 files.!\n"
     ]
    }
   ],
   "source": [
    "# val image\n",
    "old_paths = get_file_subpaths(road_path_from + \"val/\")\n",
    "new_paths = [road_path_to + \"val/\" + file_name for file_name in get_file_subpaths(road_path_from + \"val/\", whole = False)]\n",
    "save_copy_dilate(old_paths, new_paths)\n",
    "# val label\n",
    "old_paths = get_file_subpaths(road_path_from + \"/val_labels/\")\n",
    "new_paths = [road_path_to + \"val_labels/\" + file_name for file_name in get_file_subpaths(road_path_from + \"val_labels/\", whole = False)]\n",
    "save_copy_dilate(old_paths, new_paths, [5, 1])\n",
    "# save_copy_dilate(old_paths, new_paths)"
   ]
  },
  {
   "cell_type": "code",
   "execution_count": 24,
   "metadata": {},
   "outputs": [
    {
     "name": "stdout",
     "output_type": "stream",
     "text": [
      "Copy 49 files.!\n",
      "Copy 49 files.!\n"
     ]
    }
   ],
   "source": [
    "# test image\n",
    "old_paths = get_file_subpaths(road_path_from + \"test/\")\n",
    "new_paths = [road_path_to + \"test/\" + file_name for file_name in get_file_subpaths(road_path_from + \"test/\", whole = False)]\n",
    "save_copy_dilate(old_paths, new_paths)\n",
    "# # test label\n",
    "old_paths =  get_file_subpaths(road_path_from + \"test_labels/\")\n",
    "new_paths = [road_path_to + \"test_labels/\" + file_name for file_name in  get_file_subpaths(road_path_from + \"test_labels/\", whole = False)]\n",
    "save_copy_dilate(old_paths, new_paths)"
   ]
  },
  {
   "cell_type": "markdown",
   "metadata": {},
   "source": [
    "## Split"
   ]
  },
  {
   "cell_type": "code",
   "execution_count": 25,
   "metadata": {},
   "outputs": [],
   "source": [
    "# get left-top, left-bottom, right-top, right-bottom parts saved\n",
    "# split images into n*n pieces\n",
    "def save_split(old_paths, new_paths, n):\n",
    "    height, width = cv2.imread(old_paths[0]).shape[0:2]\n",
    "    h_unit, w_unit = height // n, width // n\n",
    "    for i, (old_path, new_path) in enumerate(zip(old_paths, new_paths)):\n",
    "        new_root, suffix = new_path.split(\".\")\n",
    "        img = cv2.imread(old_path)\n",
    "        for h, w in itertools.product(range(n), range(n)):\n",
    "            cv2.imwrite(\"{}_h{}_w{}.{}\".format(new_root, h+1, w+1, suffix),\n",
    "                       img[h*h_unit:(h+1)*h_unit, w*w_unit:(w+1)*w_unit])\n",
    "    print(\"Save split images\")"
   ]
  },
  {
   "cell_type": "code",
   "execution_count": 26,
   "metadata": {},
   "outputs": [
    {
     "name": "stdout",
     "output_type": "stream",
     "text": [
      "D://Data/massachusetts-roads-dataset/tiff_select5_parts_16/ --- built!\n",
      "6 sub_folder done.\n"
     ]
    }
   ],
   "source": [
    "mkdir_level2(road_path_to_split, [\"train\", \"train_labels\", \"val\", \"val_labels\", \"test\", \"test_labels\"])"
   ]
  },
  {
   "cell_type": "code",
   "execution_count": 27,
   "metadata": {},
   "outputs": [
    {
     "name": "stdout",
     "output_type": "stream",
     "text": [
      "Save split images\n"
     ]
    }
   ],
   "source": [
    "# train image\n",
    "old_paths = get_file_subpaths(road_path_to + \"train/\")\n",
    "new_paths = [road_path_to_split + \"train/\" + file_name for file_name in get_file_subpaths(road_path_to + \"train/\", whole = False)]\n",
    "save_split(old_paths, new_paths, 4)"
   ]
  },
  {
   "cell_type": "code",
   "execution_count": 28,
   "metadata": {},
   "outputs": [
    {
     "name": "stdout",
     "output_type": "stream",
     "text": [
      "Save split images\n"
     ]
    }
   ],
   "source": [
    "# train labels\n",
    "old_paths = get_file_subpaths(road_path_to + \"train_labels/\")\n",
    "new_paths = [road_path_to_split + \"train_labels/\" + file_name for file_name in get_file_subpaths(road_path_to + \"train_labels/\", whole = False)]\n",
    "save_split(old_paths, new_paths, 4)"
   ]
  },
  {
   "cell_type": "code",
   "execution_count": 29,
   "metadata": {},
   "outputs": [
    {
     "name": "stdout",
     "output_type": "stream",
     "text": [
      "Save split images\n",
      "Save split images\n"
     ]
    }
   ],
   "source": [
    "# val image\n",
    "old_paths = get_file_subpaths(road_path_to + \"val/\")\n",
    "new_paths = [road_path_to_split + \"val/\" + file_name for file_name in get_file_subpaths(road_path_to + \"val/\", whole = False)]\n",
    "save_split(old_paths, new_paths, 4)\n",
    "# val label\n",
    "old_paths = get_file_subpaths(road_path_to + \"val_labels/\")\n",
    "new_paths = [road_path_to_split + \"val_labels/\" + file_name for file_name in get_file_subpaths(road_path_to + \"val_labels/\", whole = False)]\n",
    "save_split(old_paths, new_paths, 4)"
   ]
  },
  {
   "cell_type": "code",
   "execution_count": 30,
   "metadata": {},
   "outputs": [
    {
     "name": "stdout",
     "output_type": "stream",
     "text": [
      "Save split images\n",
      "Save split images\n"
     ]
    }
   ],
   "source": [
    "# test image\n",
    "old_paths = get_file_subpaths(road_path_to + \"test/\")\n",
    "new_paths = [road_path_to_split + \"test/\" + file_name for file_name in get_file_subpaths(road_path_to + \"test/\", whole = False)]\n",
    "save_split(old_paths, new_paths, 4)\n",
    "# test label\n",
    "old_paths = get_file_subpaths(road_path_to + \"test_labels/\")\n",
    "new_paths = [road_path_to_split + \"test_labels/\" + file_name for file_name in get_file_subpaths(road_path_to + \"test_labels/\", whole = False)]\n",
    "save_split(old_paths, new_paths, 4)"
   ]
  },
  {
   "cell_type": "markdown",
   "metadata": {},
   "source": [
    "## Remove Incompetent Data"
   ]
  },
  {
   "cell_type": "code",
   "execution_count": 31,
   "metadata": {},
   "outputs": [],
   "source": [
    "split_paths_img = get_file_subpaths(road_path_to_split + \"train/\")\n",
    "split_paths_lbl = get_file_subpaths(road_path_to_split + \"train_labels/\")"
   ]
  },
  {
   "cell_type": "code",
   "execution_count": 32,
   "metadata": {},
   "outputs": [],
   "source": [
    "road_ratios = [road_ratio(cv2.imread(lbl)) for lbl in split_paths_lbl]"
   ]
  },
  {
   "cell_type": "code",
   "execution_count": 33,
   "metadata": {},
   "outputs": [],
   "source": [
    "valid_ratios = [valid_ratio(cv2.imread(img)) for img in split_paths_img]"
   ]
  },
  {
   "cell_type": "code",
   "execution_count": 34,
   "metadata": {},
   "outputs": [],
   "source": [
    "valid_threshold = np.float64(0.95)\n",
    "road_threshold = np.percentile(road_ratios, 20)\n",
    "\n",
    "not_valid_idx = np.where(valid_ratios < valid_threshold)[0].tolist()\n",
    "not_road_idx = np.where(road_ratios < road_threshold)[0].tolist()"
   ]
  },
  {
   "cell_type": "code",
   "execution_count": 35,
   "metadata": {},
   "outputs": [],
   "source": [
    "not_target_idx = list(set(not_valid_idx).union(set(not_road_idx)))\n",
    "not_target_idx.sort()"
   ]
  },
  {
   "cell_type": "code",
   "execution_count": 36,
   "metadata": {},
   "outputs": [
    {
     "data": {
      "text/plain": [
       "2476"
      ]
     },
     "execution_count": 36,
     "metadata": {},
     "output_type": "execute_result"
    }
   ],
   "source": [
    "len(not_target_idx)"
   ]
  },
  {
   "cell_type": "code",
   "execution_count": 37,
   "metadata": {},
   "outputs": [],
   "source": [
    "delete_paths_img = [split_paths_img[i] for i in not_target_idx]\n",
    "delete_img = [t.split(\"/\")[-1].split(\".\")[0] for t in delete_paths_img]\n",
    "delete_paths_lbl = [split_paths_lbl[i] for i in not_target_idx]\n",
    "delete_lbl = [t.split(\"/\")[-1].split(\".\")[0] for t in delete_paths_lbl]"
   ]
  },
  {
   "cell_type": "code",
   "execution_count": 38,
   "metadata": {},
   "outputs": [],
   "source": [
    "for t in delete_paths_lbl:\n",
    "    os.remove(t)"
   ]
  },
  {
   "cell_type": "code",
   "execution_count": 39,
   "metadata": {},
   "outputs": [],
   "source": [
    "for t in delete_paths_img:\n",
    "    os.remove(t)"
   ]
  },
  {
   "cell_type": "code",
   "execution_count": null,
   "metadata": {},
   "outputs": [],
   "source": []
  }
 ],
 "metadata": {
  "kernelspec": {
   "display_name": "Python 3",
   "language": "python",
   "name": "python3"
  },
  "language_info": {
   "codemirror_mode": {
    "name": "ipython",
    "version": 3
   },
   "file_extension": ".py",
   "mimetype": "text/x-python",
   "name": "python",
   "nbconvert_exporter": "python",
   "pygments_lexer": "ipython3",
   "version": "3.6.9"
  }
 },
 "nbformat": 4,
 "nbformat_minor": 4
}
